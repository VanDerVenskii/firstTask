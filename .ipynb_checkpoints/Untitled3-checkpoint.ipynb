{
 "cells": [
  {
   "cell_type": "markdown",
   "id": "982d1cac-b188-4d54-97c4-9a6f310bf3ee",
   "metadata": {},
   "source": [
    "### Task 3 NumPy"
   ]
  },
  {
   "cell_type": "code",
   "execution_count": 1,
   "id": "8d89f216-7031-4d35-91b1-681eacbf62a1",
   "metadata": {},
   "outputs": [],
   "source": [
    "# Векторизация"
   ]
  },
  {
   "cell_type": "code",
   "execution_count": null,
   "id": "f1130ceb-86be-459f-a7ef-4c339c8843e8",
   "metadata": {},
   "outputs": [],
   "source": [
    "import numpy as np\n",
    "\n",
    "# Поэлементная формула без цикла\n",
    "x = np.arange(-3)"
   ]
  },
  {
   "cell_type": "code",
   "execution_count": null,
   "id": "c37b580e-4a3b-4f79-9f9a-42aa01d049e8",
   "metadata": {},
   "outputs": [],
   "source": []
  },
  {
   "cell_type": "code",
   "execution_count": null,
   "id": "d53d84c0-9255-4986-a256-5637a1a9ee66",
   "metadata": {},
   "outputs": [],
   "source": []
  },
  {
   "cell_type": "code",
   "execution_count": null,
   "id": "673627e6-0b17-47e2-8a17-1537c5625169",
   "metadata": {},
   "outputs": [],
   "source": []
  },
  {
   "cell_type": "code",
   "execution_count": null,
   "id": "763c51ed-2f3c-4b38-96d6-c3d43264e904",
   "metadata": {},
   "outputs": [],
   "source": []
  },
  {
   "cell_type": "markdown",
   "id": "a833b22d-ed98-44f9-abea-84d5ff33f2fd",
   "metadata": {},
   "source": []
  }
 ],
 "metadata": {
  "kernelspec": {
   "display_name": "Python 3 (ipykernel)",
   "language": "python",
   "name": "python3"
  },
  "language_info": {
   "codemirror_mode": {
    "name": "ipython",
    "version": 3
   },
   "file_extension": ".py",
   "mimetype": "text/x-python",
   "name": "python",
   "nbconvert_exporter": "python",
   "pygments_lexer": "ipython3",
   "version": "3.13.5"
  }
 },
 "nbformat": 4,
 "nbformat_minor": 5
}
