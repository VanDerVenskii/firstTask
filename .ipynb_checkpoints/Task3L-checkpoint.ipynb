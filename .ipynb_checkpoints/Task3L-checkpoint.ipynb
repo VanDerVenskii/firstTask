{
 "cells": [
  {
   "cell_type": "markdown",
   "id": "982d1cac-b188-4d54-97c4-9a6f310bf3ee",
   "metadata": {},
   "source": [
    "### Task 3 NumPy"
   ]
  },
  {
   "cell_type": "code",
   "execution_count": 1,
   "id": "8d89f216-7031-4d35-91b1-681eacbf62a1",
   "metadata": {},
   "outputs": [],
   "source": [
    "# Векторизация - это выполнение одной и тойже операции сразу над всем массивом. \n",
    "# NumPy применяет арифметику поэлементно и автоматически согласует формы (broadcasting). \n",
    "# Важно понимать форму массива (shape) и уметь при необходимости добавлять ось, например:\n",
    "# a[:, None] для превращения вектора в столбец."
   ]
  },
  {
   "cell_type": "code",
   "execution_count": 2,
   "id": "4bc0cb32-79a0-4bcc-b54d-402a67451158",
   "metadata": {},
   "outputs": [],
   "source": [
    "import numpy as np\n",
    "import inspect\n",
    "from functools import wraps\n",
    "\n",
    "def get_arr_props(arr):\n",
    "    props = ['shape', 'ndim', 'dtype', 'nbytes', 'size', 'strides']\n",
    "    return {prop: getattr(arr, prop) for prop in props if hasattr(arr, prop)}\n",
    "\n",
    "def info(var_name):\n",
    "    try:\n",
    "        var_value = globals()[var_name]\n",
    "        print(f\"\\n{var_name}:\\n{var_value}\\n{get_arr_props(var_value)}\")\n",
    "    except KeyError:\n",
    "        print(f\"Переменная '{var_name}' не найдена\")\n",
    "\n",
    "def show(var):\n",
    "    frame = inspect.currentframe().f_back\n",
    "    # Ищем в локальных, затем в глобальных переменных\n",
    "    for name, value in {**frame.f_locals, **frame.f_globals}.items():\n",
    "        if value is var and not name.startswith('_'):\n",
    "            print(f\"\\n{name}:\\n{var}\\n{get_arr_props(var)}\")\n",
    "            return\n",
    "    print(\"Не удалось найти имя переменной\")\n",
    "\n",
    "def smart_display(func):\n",
    "    @wraps(func)\n",
    "    def wrapper(arg):\n",
    "        if isinstance(arg, str):\n",
    "            # Если передана строка - ищем переменную по имени\n",
    "            try:\n",
    "                frame = inspect.currentframe().f_back\n",
    "                if arg in frame.f_locals:\n",
    "                    var_value = frame.f_locals[arg]\n",
    "                else:\n",
    "                    var_value = globals()[arg]\n",
    "                return func(arg, var_value)\n",
    "            except KeyError:\n",
    "                print(f\"Переменная '{arg}' не найдена\")\n",
    "                return None\n",
    "        else:\n",
    "            # Если передан объект - ищем его имя\n",
    "            frame = inspect.currentframe().f_back\n",
    "            for name, value in {**frame.f_locals, **frame.f_globals}.items():\n",
    "                if value is arg and not name.startswith('_'):\n",
    "                    return func(name, arg)\n",
    "            print(\"Не удалось найти имя переменной\")\n",
    "            return None\n",
    "    return wrapper\n",
    "\n",
    "@smart_display\n",
    "def display(name, value):\n",
    "    print(f\"\\n{name}:\\n{value}\\n{get_arr_props(value)}\")"
   ]
  },
  {
   "cell_type": "code",
   "execution_count": 3,
   "id": "f1130ceb-86be-459f-a7ef-4c339c8843e8",
   "metadata": {},
   "outputs": [
    {
     "name": "stdout",
     "output_type": "stream",
     "text": [
      "[-3 -2 -1  0  1  2  3] \n",
      " {'shape': (7,), 'ndim': 1, 'dtype': dtype('int64'), 'nbytes': 56, 'size': 7, 'strides': (8,)}\n",
      "\n",
      "y_loop: [-5 -3 -1  1  3  5  7] \n",
      " {'shape': (7,), 'ndim': 1, 'dtype': dtype('int64'), 'nbytes': 56, 'size': 7, 'strides': (8,)}\n",
      "\n",
      "y_vec: [-5 -3 -1  1  3  5  7] \n",
      " {'shape': (7,), 'ndim': 1, 'dtype': dtype('int64'), 'nbytes': 56, 'size': 7, 'strides': (8,)}\n",
      "\n",
      "Совпадает ли результат: True\n"
     ]
    }
   ],
   "source": [
    "# Поэлементная формула без цикла\n",
    "x = np.arange(-3, 4)           # [-3, -2, ..., 3], shape(7, )\n",
    "print(x,'\\n' ,get_arr_props(x))\n",
    "\n",
    "y_loop = np.array([2*t + 1 for t in x])  # циклом - списковое включение\n",
    "print('\\ny_loop:', y_loop,'\\n' ,get_arr_props(y_loop))\n",
    "\n",
    "y_vec  = 2*x + 1                        # векторно за раз   \n",
    "print('\\ny_vec:', y_vec,'\\n' ,get_arr_props(y_vec))\n",
    "\n",
    "print(\"\\nСовпадает ли результат:\", np.array_equal(y_loop, y_vec))\n"
   ]
  },
  {
   "cell_type": "code",
   "execution_count": 4,
   "id": "c37b580e-4a3b-4f79-9f9a-42aa01d049e8",
   "metadata": {},
   "outputs": [
    {
     "name": "stdout",
     "output_type": "stream",
     "text": [
      "\n",
      "C:\n",
      " [[ 0 10 20]\n",
      " [ 5 15 25]] \n",
      " {'shape': (2, 3), 'ndim': 2, 'dtype': dtype('int64'), 'nbytes': 48, 'size': 6, 'strides': (24, 8)}\n",
      "\n",
      "F:\n",
      " [[32. 50. 68.]\n",
      " [41. 59. 77.]] \n",
      " {'shape': (2, 3), 'ndim': 2, 'dtype': dtype('float64'), 'nbytes': 48, 'size': 6, 'strides': (24, 8)}\n"
     ]
    }
   ],
   "source": [
    "# Преобразование всей матрицы (С->F) одной формулой\n",
    "C = np.array([[0, 10, 20],\n",
    "              [5, 15, 25]])   # градусы Цельсия, shape(2, 3)\n",
    "F = C * 9/5 +32               # поэлементно: (С * 9/5) +32\n",
    "print('\\nC:\\n', C,'\\n' ,get_arr_props(C))\n",
    "print('\\nF:\\n', F,'\\n' ,get_arr_props(F))"
   ]
  },
  {
   "cell_type": "code",
   "execution_count": 5,
   "id": "d53d84c0-9255-4986-a256-5637a1a9ee66",
   "metadata": {},
   "outputs": [
    {
     "name": "stdout",
     "output_type": "stream",
     "text": [
      "\n",
      "S:\n",
      " [[11 21 31 41]\n",
      " [12 22 32 42]\n",
      " [13 23 33 43]] \n",
      " {'shape': (3, 4), 'ndim': 2, 'dtype': dtype('int64'), 'nbytes': 96, 'size': 12, 'strides': (32, 8)}\n",
      "\n",
      "S[:2, :3] (пример 2х3 блока):\n",
      " [[11 21 31]\n",
      " [12 22 32]]\n"
     ]
    }
   ],
   "source": [
    "# все попарные суммы двух векторов (broadcasting)\n",
    "a = np.array([1, 2, 3]) # shape(3, )\n",
    "b = np.array([10, 20, 30, 40]) # shape(4, )\n",
    "S = a[:, None] + b             # (3,1) + (4,) -> (3,4)\n",
    "print('\\nS:\\n', S,'\\n' ,get_arr_props(S))\n",
    "print ('\\nS[:2, :3] (пример 2х3 блока):\\n', S[:2, :3])"
   ]
  },
  {
   "cell_type": "code",
   "execution_count": 6,
   "id": "673627e6-0b17-47e2-8a17-1537c5625169",
   "metadata": {},
   "outputs": [],
   "source": [
    "# Broadcasting (в NumPy) - это способ выполнять поэлементные операции над массивами разных форм без явного копирования данных.\n",
    "# Сопоставление размеров по хвостовым осям с права на лево. \n",
    "# В каждой паре осей размеры совместимы если они равны или один из них равен 1."
   ]
  },
  {
   "cell_type": "code",
   "execution_count": 7,
   "id": "763c51ed-2f3c-4b38-96d6-c3d43264e904",
   "metadata": {},
   "outputs": [
    {
     "name": "stdout",
     "output_type": "stream",
     "text": [
      "\n",
      "M:\n",
      "[[ 0  1  2  3]\n",
      " [ 4  5  6  7]\n",
      " [ 8  9 10 11]]\n",
      "{'shape': (3, 4), 'ndim': 2, 'dtype': dtype('int64'), 'nbytes': 96, 'size': 12, 'strides': (32, 8)}\n",
      "\n",
      "M:\n",
      "[[ 0  1  2  3]\n",
      " [ 4  5  6  7]\n",
      " [ 8  9 10 11]]\n",
      "{'shape': (3, 4), 'ndim': 2, 'dtype': dtype('int64'), 'nbytes': 96, 'size': 12, 'strides': (32, 8)}\n"
     ]
    }
   ],
   "source": [
    "# Исходная матрица 3х4\n",
    "M = np.arange(12).reshape(3,4)\n",
    "info(\"M\")\n",
    "show(M)"
   ]
  },
  {
   "cell_type": "code",
   "execution_count": null,
   "id": "51437762-5b10-4af4-bd09-ac9032cb8248",
   "metadata": {},
   "outputs": [],
   "source": []
  },
  {
   "cell_type": "code",
   "execution_count": null,
   "id": "3e2a7bba-897b-4de2-ab09-ad780bcfaea5",
   "metadata": {},
   "outputs": [],
   "source": []
  },
  {
   "cell_type": "code",
   "execution_count": null,
   "id": "c97ad659-eb86-40f2-9c2c-02a039d41af4",
   "metadata": {},
   "outputs": [],
   "source": []
  },
  {
   "cell_type": "code",
   "execution_count": null,
   "id": "111c4390-6e98-4d8c-a3e9-cfc02fa7054d",
   "metadata": {},
   "outputs": [],
   "source": []
  },
  {
   "cell_type": "code",
   "execution_count": null,
   "id": "a96ee0a6-3de2-43d5-bbf8-84c9cc1e06c4",
   "metadata": {},
   "outputs": [],
   "source": []
  },
  {
   "cell_type": "code",
   "execution_count": null,
   "id": "3d9b6a57-a20e-4fdc-a332-4e250cc0ec30",
   "metadata": {},
   "outputs": [],
   "source": []
  },
  {
   "cell_type": "code",
   "execution_count": null,
   "id": "5896b105-642a-46e5-b0d7-a2c604696651",
   "metadata": {},
   "outputs": [],
   "source": []
  }
 ],
 "metadata": {
  "kernelspec": {
   "display_name": "Python 3 (ipykernel)",
   "language": "python",
   "name": "python3"
  },
  "language_info": {
   "codemirror_mode": {
    "name": "ipython",
    "version": 3
   },
   "file_extension": ".py",
   "mimetype": "text/x-python",
   "name": "python",
   "nbconvert_exporter": "python",
   "pygments_lexer": "ipython3",
   "version": "3.13.5"
  }
 },
 "nbformat": 4,
 "nbformat_minor": 5
}
