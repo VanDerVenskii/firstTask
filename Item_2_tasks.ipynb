{
 "cells": [
  {
   "cell_type": "code",
   "execution_count": 1,
   "id": "68c2eb41-5dae-4e50-9d3f-82fc875eb932",
   "metadata": {},
   "outputs": [],
   "source": [
    "# Импортируйте библиотеку nympy\n",
    "import numpy as np\n",
    "\n",
    "def get_arr_props(arr):\n",
    "    props = ['shape', 'ndim', 'dtype', 'nbytes', 'size', 'strides']\n",
    "    return {prop: getattr(arr, prop) for prop in props if hasattr(arr, prop)}"
   ]
  },
  {
   "cell_type": "code",
   "execution_count": 2,
   "id": "6a8e0403-f48f-4c14-ae07-304d26df908e",
   "metadata": {},
   "outputs": [
    {
     "name": "stdout",
     "output_type": "stream",
     "text": [
      "{'shape': (), 'ndim': 0, 'dtype': dtype('int64'), 'nbytes': 8, 'size': 1, 'strides': ()}\n"
     ]
    }
   ],
   "source": [
    "# Создайте массив-скаляр (0D) со значением 5 и выведите его shape, ndim, dtype и nbytes.\n",
    "# используйте np.array\n",
    "print(get_arr_props(np.array(7)))"
   ]
  },
  {
   "cell_type": "code",
   "execution_count": 3,
   "id": "50c883f3-597b-4388-a92d-6fb72fed243a",
   "metadata": {},
   "outputs": [
    {
     "name": "stdout",
     "output_type": "stream",
     "text": [
      "{'shape': (10,), 'ndim': 1, 'dtype': dtype('float64'), 'nbytes': 80, 'size': 10, 'strides': (8,)}\n"
     ]
    }
   ],
   "source": [
    "# Создайте одномерный нулевой вектор длиной 10 и выведите shape, ndim, dtype, nbytes.\n",
    "# используйте np.zeros(10)\n",
    "print(get_arr_props(np.zeros(10)))"
   ]
  },
  {
   "cell_type": "code",
   "execution_count": 4,
   "id": "e1934f54-df37-4f70-a440-a804622b12c2",
   "metadata": {},
   "outputs": [
    {
     "name": "stdout",
     "output_type": "stream",
     "text": [
      "{'shape': (40,), 'ndim': 1, 'dtype': dtype('int64'), 'nbytes': 320, 'size': 40, 'strides': (8,)}\n"
     ]
    }
   ],
   "source": [
    "# Создайте вектор со значениями от 10 до 49 включительно и выведите shape, ndim, dtype, size.\n",
    "# используйте np.arange(10, 50)\n",
    "print(get_arr_props(np.arange(10, 50)))"
   ]
  },
  {
   "cell_type": "code",
   "execution_count": 5,
   "id": "a06e2ebb-67ed-4d9d-ac67-2bc66daaabe2",
   "metadata": {},
   "outputs": [
    {
     "name": "stdout",
     "output_type": "stream",
     "text": [
      "[49 48 47 46 45 44 43 42 41 40 39 38 37 36 35 34 33 32 31 30 29 28 27 26\n",
      " 25 24 23 22 21 20 19 18 17 16 15 14 13 12 11 10]\n"
     ]
    }
   ],
   "source": [
    "# Инвертируйте порядок элементов вектора из части 3 (первый элемент становится последним).\n",
    "# используйте срез [::-1]\n",
    "print(np.arange(10, 50)[::-1])"
   ]
  },
  {
   "cell_type": "code",
   "execution_count": 6,
   "id": "93c38105-b74c-40e2-8d46-add9cdf9238f",
   "metadata": {},
   "outputs": [
    {
     "name": "stdout",
     "output_type": "stream",
     "text": [
      "[[0 1 2]\n",
      " [3 4 5]\n",
      " [6 7 8]]\n"
     ]
    }
   ],
   "source": [
    "# Создайте матрицу 3x3 со значениями от 0 до 8.\n",
    "# используйте np.arange(...).reshape(...)\n",
    "print(np.arange(9).reshape(3, 3))"
   ]
  },
  {
   "cell_type": "code",
   "execution_count": 7,
   "id": "c5d2f1e1-9a7d-429d-97f2-c784d7a1da28",
   "metadata": {},
   "outputs": [
    {
     "name": "stdout",
     "output_type": "stream",
     "text": [
      "[0 1 4]\n"
     ]
    }
   ],
   "source": [
    "# Найдите индексы ненулевых элементов в массиве [1, 2, 0, 0, 4, 0].\n",
    "# используйте np.nonzero(...)\n",
    "print(np.nonzero(np.array([1, 2, 0, 0, 4, 0]))[0])"
   ]
  },
  {
   "cell_type": "code",
   "execution_count": 14,
   "id": "9f27b9c2-ed27-4709-a4bf-e661fb157874",
   "metadata": {},
   "outputs": [
    {
     "name": "stdout",
     "output_type": "stream",
     "text": [
      "{'shape': (3, 3, 3), 'ndim': 3, 'dtype': dtype('float64'), 'nbytes': 216, 'size': 27, 'strides': (72, 24, 8)}\n"
     ]
    }
   ],
   "source": [
    "# Создайте массив 3x3x3 со случайными значениями и выведите shape, ndim, size.\n",
    "# используйте np.random.rand(3, 3, 3)\n",
    "print(get_arr_props(np.random.rand(3, 3, 3)))"
   ]
  },
  {
   "cell_type": "code",
   "execution_count": 25,
   "id": "db090dfe-c315-49e2-bed3-0337a6ef9380",
   "metadata": {},
   "outputs": [
    {
     "name": "stdout",
     "output_type": "stream",
     "text": [
      "0.007142198910771613 0.9851628137018318\n"
     ]
    }
   ],
   "source": [
    "# Создайте массив 10x10 со случайными значениями и найдите в нём min и max.\n",
    "# используйте np.random.rand(10, 10), np.min(...), np.max(...)\n",
    "print(np.min(arr:=np.random.rand(10, 10)), np.max(arr))"
   ]
  },
  {
   "cell_type": "code",
   "execution_count": 134,
   "id": "a152e95e-66d1-446c-af18-41adb539980e",
   "metadata": {},
   "outputs": [
    {
     "name": "stdout",
     "output_type": "stream",
     "text": [
      "0.5139455883147243 30 \n",
      " [0.19484651 0.52715058 0.92837651 0.64418769 0.25040143 0.32425052\n",
      " 0.4475652  0.73642278 0.12557144 0.57906591 0.07464316 0.35101733\n",
      " 0.79703115 0.96214183 0.93602255 0.39815142 0.82414093 0.55213404\n",
      " 0.05776442 0.05239073 0.23873746 0.735006   0.29223771 0.92290037\n",
      " 0.70391333 0.96233744 0.81213869 0.40957677 0.39535652 0.18288723] \n",
      "\n",
      "4.9978 30000 \n",
      " [6 5 2 ... 5 1 3]\n"
     ]
    }
   ],
   "source": [
    "# Создайте случайный вектор размера 30 и найдите его среднее значение.\n",
    "# используйте np.random.rand(...) и np.mean(...)\n",
    "print(np.mean(arr:=np.random.rand(30)), arr.size, \"\\n\", arr, \"\\n\")\n",
    "print(np.mean(arr:=np.random.randint(1, 10, 30_000)), arr.size, \"\\n\", arr)   # запись числа с _ 30_000, при увеличении повторений случайное среднее стремится к среднему 1 до 9 тоетсь 5"
   ]
  },
  {
   "cell_type": "code",
   "execution_count": 94,
   "id": "588b409e-4b64-4e73-9151-792ec1ef9a1f",
   "metadata": {},
   "outputs": [
    {
     "name": "stdout",
     "output_type": "stream",
     "text": [
      "[[1. 1. 1.]\n",
      " [1. 0. 1.]\n",
      " [1. 1. 1.]] \n",
      "\n",
      "[[1. 1. 1.]\n",
      " [1. 0. 1.]\n",
      " [1. 1. 1.]] \n",
      "\n",
      "[[1. 1. 1.]\n",
      " [1. 0. 1.]\n",
      " [1. 1. 1.]] \n",
      "\n",
      "[[1. 1. 1.]\n",
      " [1. 0. 1.]\n",
      " [1. 1. 1.]] \n",
      "\n"
     ]
    },
    {
     "name": "stdin",
     "output_type": "stream",
     "text": [
      "Размерность:  3\n"
     ]
    },
    {
     "name": "stdout",
     "output_type": "stream",
     "text": [
      "[[1. 1. 1.]\n",
      " [1. 0. 1.]\n",
      " [1. 1. 1.]] \n",
      "\n"
     ]
    },
    {
     "name": "stdin",
     "output_type": "stream",
     "text": [
      "Размерность:  4\n"
     ]
    },
    {
     "name": "stdout",
     "output_type": "stream",
     "text": [
      "[[1. 1. 1. 1.]\n",
      " [1. 0. 0. 1.]\n",
      " [1. 0. 0. 1.]\n",
      " [1. 1. 1. 1.]]\n"
     ]
    }
   ],
   "source": [
    "# Создайте массив 3x3 с единицами по границе и нулями внутри.\n",
    "# используйте np.ones(...) и срез a[1:-1, 1:-1] = 0                                                # однострочники\n",
    "print((a := np.pad(np.zeros((1,1)), pad_width=1, constant_values=1)),'\\n')                         # через моржа с pad   \n",
    "print(exec('(a := np.ones((3,3)))[1:-1, 1:-1] = 0') or a,'\\n')                                     # через exec() - как в условии\n",
    "print(a := np.ones((3,3)).__setitem__((slice(1,-1), slice(1,-1)), 0) or a,'\\n')                    # присвоение напрямую через __setitem__\n",
    "print((lambda a: (a.__setitem__((slice(1,-1), slice(1,-1)), 0)) or a)(np.ones((3,3))),'\\n')        # через lambda\n",
    "print((lambda b: (a := np.ones((b,b))).__setitem__((slice(1,-1), slice(1,-1)), 0) or a)(int(input(\"Размерность: \"))),'\\n')  # lambda + input\n",
    "print((lambda b: (a := np.ones((b,b)), np.putmask(a, (np.arange(b)[:,None] % (b-1) != 0) & (np.arange(b) % (b-1) != 0), 0))[0])(int(input(\"Размерность: \")))) # lambda + mask"
   ]
  },
  {
   "cell_type": "code",
   "execution_count": 138,
   "id": "c79c59ec-496a-47a3-8951-71ebfc60b1b0",
   "metadata": {},
   "outputs": [
    {
     "name": "stdout",
     "output_type": "stream",
     "text": [
      "Индекс 100-го элемента: (np.int64(1), np.int64(5), np.int64(3))\n",
      "Индекс 100-го элемента: (1, 5, 3)\n",
      "Индекс 100-го элемента: (1, 5, 3)\n",
      "Индекс 100-го элемента: (1, 5, 3)\n",
      "Индекс 100-го элемента: (1, 5, 3)\n",
      "Индекс 100-го элемента: (1, 5, 3)\n"
     ]
    }
   ],
   "source": [
    "# Для массива формы (6, 7, 8) найдите индекс (x, y, z) 100-го элемента (нумерация с 0).\n",
    "# используйте np.unravel_index(99, (6, 7, 8))\n",
    "print(\"Индекс 100-го элемента:\", idx:=np.unravel_index(99, (6, 7, 8)))                                            # Стандартный вывод\n",
    "print(\"Индекс 100-го элемента:\", tuple(int(i) for i in idx))                      # Преобразование в tuple с int\n",
    "print(\"Индекс 100-го элемента:\", tuple(map(int, idx)))                            # Использование map\n",
    "i, j, k = map(int, idx)                                                          \n",
    "print(\"Индекс 100-го элемента:\", (i, j, k))                                       # Распаковка с преобразованием\n",
    "print(\"Индекс 100-го элемента: (%d, %d, %d)\" % idx)                               # Форматирование строки\n",
    "print(f\"Индекс 100-го элемента: ({int(idx[0])}, {int(idx[1])}, {int(idx[2])})\")   # f-strings с явным преобразованием"
   ]
  },
  {
   "cell_type": "code",
   "execution_count": 149,
   "id": "2eaef459-af71-4ced-a1c6-b2888aa7065e",
   "metadata": {},
   "outputs": [
    {
     "name": "stdout",
     "output_type": "stream",
     "text": [
      "Исходные данные: \n",
      "A:\n",
      "[[0.62832005 0.3273519  0.45636234]\n",
      " [0.29020308 0.31601009 0.6696084 ]\n",
      " [0.86946374 0.5577833  0.84243245]\n",
      " [0.26368291 0.54319559 0.19115566]\n",
      " [0.49830973 0.06542774 0.92192796]]\n",
      "B:\n",
      "[[0.63588643 0.73771756]\n",
      " [0.39223163 0.87504837]\n",
      " [0.53995177 0.24901741]]\n",
      "\n",
      "Форма результата: (5, 2)\n",
      "\n",
      "Результат:\n",
      "[[0.774 0.864]\n",
      " [0.67  0.657]\n",
      " [1.227 1.339]\n",
      " [0.484 0.717]\n",
      " [0.84  0.654]]\n",
      "\n",
      "Результат:\n",
      "[[0.7744 0.8636]\n",
      " [0.67   0.6574]\n",
      " [1.2265 1.3393]\n",
      " [0.4839 0.7174]\n",
      " [0.8403 0.6544]]\n"
     ]
    }
   ],
   "source": [
    "# Перемножьте матрицу A (5x3) на матрицу B (3x2), выведите форму результата и сам результат.\n",
    "# Подсказка: используйте оператор @ или np.dot(A, B)\n",
    "A = np.random.rand(5, 3)\n",
    "B = np.random.rand(3, 2)\n",
    "result = A @ B\n",
    "print(f\"Исходные данные: {\"\\nA:\\n\"}{A}{\"\\nB:\\n\"}{B}\")\n",
    "print(f\"\\nФорма результата: {result.shape}\")\n",
    "print(f\"\\nРезультат:\\n{result.round(3)}\")\n",
    "print(f\"\\nРезультат:\\n{np.dot(A, B).round(4)}\")"
   ]
  },
  {
   "cell_type": "code",
   "execution_count": null,
   "id": "38e5dd4c-9f9e-495a-88f9-95515c0c7f41",
   "metadata": {},
   "outputs": [],
   "source": []
  }
 ],
 "metadata": {
  "kernelspec": {
   "display_name": "Python 3 (ipykernel)",
   "language": "python",
   "name": "python3"
  },
  "language_info": {
   "codemirror_mode": {
    "name": "ipython",
    "version": 3
   },
   "file_extension": ".py",
   "mimetype": "text/x-python",
   "name": "python",
   "nbconvert_exporter": "python",
   "pygments_lexer": "ipython3",
   "version": "3.13.5"
  }
 },
 "nbformat": 4,
 "nbformat_minor": 5
}
