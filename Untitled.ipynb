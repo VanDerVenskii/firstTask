{
 "cells": [
  {
   "cell_type": "markdown",
   "id": "11e44048-f995-40ba-8fb9-119b89baf518",
   "metadata": {},
   "source": [
    "### Создание массивов и базовые свойства"
   ]
  },
  {
   "cell_type": "code",
   "execution_count": 1,
   "id": "cfcfec5f-2530-4d93-bcba-17b3986210c2",
   "metadata": {},
   "outputs": [
    {
     "name": "stdout",
     "output_type": "stream",
     "text": [
      "x = [1 2 3] | dtype: int32\n"
     ]
    }
   ],
   "source": [
    "import numpy as np\n",
    "\n",
    "# Создание из списка + явный тип\n",
    "x = np.array([1, 2, 3], dtype=np.int32)\n",
    "print(\"x =\", x, \"| dtype:\", x.dtype)"
   ]
  },
  {
   "cell_type": "code",
   "execution_count": null,
   "id": "57704cc9-2c6c-4ee0-9185-88a0b4d0c91d",
   "metadata": {},
   "outputs": [],
   "source": []
  }
 ],
 "metadata": {
  "kernelspec": {
   "display_name": "Python 3 (ipykernel)",
   "language": "python",
   "name": "python3"
  },
  "language_info": {
   "codemirror_mode": {
    "name": "ipython",
    "version": 3
   },
   "file_extension": ".py",
   "mimetype": "text/x-python",
   "name": "python",
   "nbconvert_exporter": "python",
   "pygments_lexer": "ipython3",
   "version": "3.13.5"
  }
 },
 "nbformat": 4,
 "nbformat_minor": 5
}
