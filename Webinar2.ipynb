{
 "cells": [
  {
   "cell_type": "code",
   "execution_count": 1,
   "id": "10d32f7a-d729-48f8-ae75-56f0636df2e1",
   "metadata": {},
   "outputs": [
    {
     "name": "stdout",
     "output_type": "stream",
     "text": [
      "[0. 0. 0. 0. 0. 0. 0. 0. 0. 0.]\n",
      "Массив занимает 80 байт\n"
     ]
    }
   ],
   "source": [
    "import numpy as np\n",
    "\n",
    "# создадим нулевой вектор размера 10\n",
    "v_one = np.zeros((10))  \n",
    "print(v_one)\n",
    "\n",
    "# узнаем объем памяти созданного ранее массива (нулевого вектора)\n",
    "print(f\"Массив занимает {v_one.nbytes} байт\")"
   ]
  },
  {
   "cell_type": "code",
   "execution_count": 2,
   "id": "21e4566c-427c-4d9b-9531-f7b4b597caad",
   "metadata": {},
   "outputs": [
    {
     "name": "stdout",
     "output_type": "stream",
     "text": [
      "Вектор от 10 до 49 [10 11 12 13 14 15 16 17 18 19 20 21 22 23 24 25 26 27 28 29 30 31 32 33\n",
      " 34 35 36 37 38 39 40 41 42 43 44 45 46 47 48 49]\n"
     ]
    }
   ],
   "source": [
    "# Создадим вектор от 10 до 49\n",
    "vect = np.arange(10, 50)\n",
    "print(f\"Вектор от 10 до 49 {vect}\")"
   ]
  },
  {
   "cell_type": "code",
   "execution_count": 3,
   "id": "6acb12a5-ab7e-458e-93fb-ea944f46a9a5",
   "metadata": {},
   "outputs": [],
   "source": [
    "# типовые конструкции\n",
    "a = [1,2,3, 'fff', [], 'aaa'] #список\n",
    "b = (1,2,3) #кортеж\n",
    "c = {\"key_1\": [1,2,3]}  #словарь"
   ]
  },
  {
   "cell_type": "code",
   "execution_count": 4,
   "id": "5850a358-841c-4726-bd12-2ad4081a6c62",
   "metadata": {},
   "outputs": [
    {
     "name": "stdout",
     "output_type": "stream",
     "text": [
      "Обратный вектор вектора vect:\n",
      " [49 48 47 46 45 44 43 42 41 40 39 38 37 36 35 34 33 32 31 30 29 28 27 26\n",
      " 25 24 23 22 21 20 19 18 17 16 15 14 13 12 11 10]\n"
     ]
    }
   ],
   "source": [
    "# из вектора vect создадим обратный вектор с помощью слайсинга\n",
    "r_vect = vect[::-1]\n",
    "print(f\"Обратный вектор вектора vect:\\n {r_vect}\")"
   ]
  },
  {
   "cell_type": "code",
   "execution_count": 5,
   "id": "6acb711c-e10b-4ab5-9a17-9493428afb95",
   "metadata": {},
   "outputs": [
    {
     "name": "stdout",
     "output_type": "stream",
     "text": [
      "[1, 2, 4]\n",
      "2\n",
      "(array([0, 1, 4]),)\n"
     ]
    }
   ],
   "source": [
    "# Найти ненулевые элементы из массива\n",
    "M = [1 ,2, 0, 0, 4, 0]\n",
    "non_zero = list(filter(lambda x: x != 0, M))\n",
    "print(non_zero)\n",
    "print(M[M != 0])\n",
    "non_zero2 = M[M != 0]\n",
    "nonzero_index = np.nonzero(M)\n",
    "print(nonzero_index)\n",
    "\n"
   ]
  },
  {
   "cell_type": "code",
   "execution_count": 6,
   "id": "2784a057-8378-4121-a895-af3b8eea3c43",
   "metadata": {},
   "outputs": [
    {
     "name": "stdout",
     "output_type": "stream",
     "text": [
      "Массив 3x3x3 со случайными значениями:\n",
      " [[[0.56590925 0.46962398 0.25643291]\n",
      "  [0.06091037 0.78806412 0.18830074]\n",
      "  [0.14085326 0.8242122  0.06362572]]\n",
      "\n",
      " [[0.93849688 0.77410548 0.93381921]\n",
      "  [0.65856635 0.97509208 0.65627387]\n",
      "  [0.37587483 0.08201012 0.14375154]]\n",
      "\n",
      " [[0.35320706 0.34888708 0.42007024]\n",
      "  [0.80390933 0.80598434 0.19391986]\n",
      "  [0.56395147 0.56132312 0.17914622]]]\n"
     ]
    }
   ],
   "source": [
    "# Создание массива 3x3x3 со случайными значениями\n",
    "arr = np.random.random((3, 3, 3))\n",
    "print(f\"Массив 3x3x3 со случайными значениями:\\n {np.random.rand(3, 3, 3)}\") "
   ]
  },
  {
   "cell_type": "code",
   "execution_count": 7,
   "id": "20bf4551-385c-43f5-b12d-33e8d8c8b537",
   "metadata": {},
   "outputs": [
    {
     "name": "stdout",
     "output_type": "stream",
     "text": [
      "Min  0.0001281696621101558 \n",
      "Max  0.9877028269463434\n",
      "Min  0.0001281696621101558 \n",
      "Max  0.9877028269463434\n"
     ]
    }
   ],
   "source": [
    "# Создадим массив 10х10 и найдем минимум и максимум\n",
    "arr = np.random.rand(10, 10)\n",
    "print(\"Min \",np.min(arr),\"\\nMax \",np.max(arr))\n",
    "print(\"Min \", arr.min(),\"\\nMax \", arr.max())"
   ]
  },
  {
   "cell_type": "code",
   "execution_count": 8,
   "id": "4119ccba-6641-41ee-99b9-4ff279780b16",
   "metadata": {},
   "outputs": [
    {
     "name": "stdout",
     "output_type": "stream",
     "text": [
      "AVG = 0.6743598144319767\n",
      "AVG = 0.6744\n"
     ]
    }
   ],
   "source": [
    "# Создадим случайный вектор размера 30 и найдем среднее значение\n",
    "\n",
    "v = np.random.rand(30)\n",
    "print(\"AVG =\", np.mean(v))\n",
    "print(f'AVG = {np.mean(v):.4f}')"
   ]
  },
  {
   "cell_type": "code",
   "execution_count": 9,
   "id": "6ae5fdb8-1619-4d03-a668-0087640a72fb",
   "metadata": {},
   "outputs": [
    {
     "name": "stdout",
     "output_type": "stream",
     "text": [
      "Массив 3x3 с 1 на границе и 0 в центре:\n",
      "[[1 1 1]\n",
      " [1 0 1]\n",
      " [1 1 1]]\n"
     ]
    }
   ],
   "source": [
    "# Создадим 2d массив с 1 на границе и нулем внутри\n",
    "# Создаем массив 3x3 с единицами\n",
    "ones = np.ones((3, 3), dtype=int)\n",
    "ones\n",
    "# Заполняем центр нулем с помощью среза\n",
    "ones[1:-1, 1:-1] = 0  \n",
    "ones\n",
    "\n",
    "print(\"Массив 3x3 с 1 на границе и 0 в центре:\")\n",
    "M = np.ones((3, 3), dtype=int)\n",
    "M[1:2, 1:2] = 0 \n",
    "print(M)\n",
    "\n"
   ]
  },
  {
   "cell_type": "code",
   "execution_count": 10,
   "id": "049bfe8e-54ab-45f0-8b18-53a10a6b24e2",
   "metadata": {},
   "outputs": [
    {
     "name": "stdout",
     "output_type": "stream",
     "text": [
      "Исходный массив:\n",
      " [ 3  3  9  9  3  5  4  2  4 10]\n",
      "Object `задаче` not found.\n",
      "Массив после инвертирования 3 и 8:\n",
      " [10  1  7  5  6  9  2  8  2  3]\n"
     ]
    }
   ],
   "source": [
    "# создадим 1d массив со случайными значениями от 1 до 10\n",
    "# инвертируем все элементы со значениями 3 и 8\n",
    "# Создаем 1D массив со случайными значениями от 1 до 10\n",
    "R = np.random.randint(1, 11, size=10)\n",
    "print(\"Исходный массив:\\n\",R)\n",
    "# Инвертируем элементы со значениями 3 и 8\n",
    "# Создаем маску для элементов 3 и 8\n",
    "mask = (R == 3) | (R == 8)\n",
    "# Инвертируем: 3 -> 8, 8 -> 3\n",
    "#R[mask] = np.where(R[mask] == 3, 8, 3)\n",
    "\n",
    "вот так же тоже можно в предыдущей задаче?\n",
    "R = np.random.randint(1, 11, 10)\n",
    "mask = (R == 3) | (R == 8)\n",
    "R[mask] = np.where(R[mask] == 3, 8, 3)\n",
    "\n",
    "mask3 = (R == 3)\n",
    "mask8 = (R == 8)\n",
    "R[mask3] = 8\n",
    "R[mask8] = 3\n",
    "\n",
    "print(\"Массив после инвертирования 3 и 8:\\n\",R)"
   ]
  },
  {
   "cell_type": "code",
   "execution_count": 20,
   "id": "e8899769-9355-4987-94de-9c4d10a2fc90",
   "metadata": {},
   "outputs": [
    {
     "name": "stdout",
     "output_type": "stream",
     "text": [
      "[3 4 5]\n"
     ]
    }
   ],
   "source": [
    "# 1- [1, 2, 3, 4, 5]\n",
    "# 2- [3, 4, 5, 6, 7]\n",
    "a = np.array([1, 2, 3, 4, 5])\n",
    "b = np.array([3, 4, 5, 6, 7])\n",
    "common_val = np.intersect1d(a, b)\n",
    "print(common_val)"
   ]
  },
  {
   "cell_type": "code",
   "execution_count": 17,
   "id": "763f47fe-0ead-4a7a-b4d8-ec62edc51e1f",
   "metadata": {},
   "outputs": [
    {
     "name": "stdout",
     "output_type": "stream",
     "text": [
      "[[1 2 1 4 0]\n",
      " [4 4 3 4 2]\n",
      " [4 0 4 4 1]\n",
      " [2 1 3 1 3]\n",
      " [3 3 3 0 0]]\n"
     ]
    },
    {
     "data": {
      "text/plain": [
       "array([[0, 1, 2, 3, 4],\n",
       "       [0, 1, 2, 3, 4],\n",
       "       [0, 1, 2, 3, 4],\n",
       "       [0, 1, 2, 3, 4],\n",
       "       [0, 1, 2, 3, 4]])"
      ]
     },
     "execution_count": 17,
     "metadata": {},
     "output_type": "execute_result"
    }
   ],
   "source": [
    "# Создадим матрицу 5х5 со значением строк от 0 до 4\n",
    "print(np.random.randint(0, 5, 25).reshape(5,5))\n",
    "\n",
    "a = np.arange(5)\n",
    "a \n",
    "a_x_5 = np.tile(a, (5, 1))\n",
    "a_x_5"
   ]
  },
  {
   "cell_type": "code",
   "execution_count": 21,
   "id": "445835e0-b9ab-4423-b08d-c4313268899f",
   "metadata": {},
   "outputs": [
    {
     "name": "stdout",
     "output_type": "stream",
     "text": [
      "[0.54417455 0.12284404 0.9466664  0.54358187 0.05051168 0.63948292\n",
      " 0.15006411 0.57612952 0.23605113 0.21075013]\n"
     ]
    }
   ],
   "source": [
    "# Создадим вектор размера 10 со значениями в диапазоне от 0 до 1, исключая 1 и 0\n",
    "print(np.random.uniform(0, 1, 10))"
   ]
  },
  {
   "cell_type": "code",
   "execution_count": null,
   "id": "ca954378-f7e7-410a-bf23-d9b4c7410825",
   "metadata": {},
   "outputs": [],
   "source": []
  }
 ],
 "metadata": {
  "kernelspec": {
   "display_name": "Python 3 (ipykernel)",
   "language": "python",
   "name": "python3"
  },
  "language_info": {
   "codemirror_mode": {
    "name": "ipython",
    "version": 3
   },
   "file_extension": ".py",
   "mimetype": "text/x-python",
   "name": "python",
   "nbconvert_exporter": "python",
   "pygments_lexer": "ipython3",
   "version": "3.13.5"
  }
 },
 "nbformat": 4,
 "nbformat_minor": 5
}
