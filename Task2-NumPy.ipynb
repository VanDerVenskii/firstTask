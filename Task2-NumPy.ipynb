{
 "cells": [
  {
   "cell_type": "markdown",
   "id": "44332ae0-f695-48b6-b5d6-9fb2e7c8ce34",
   "metadata": {},
   "source": [
    "# NumPy: шпаргалка для начинающих https://habr.com/ru/articles/768188/"
   ]
  },
  {
   "cell_type": "markdown",
   "id": "11e44048-f995-40ba-8fb9-119b89baf518",
   "metadata": {},
   "source": [
    "### Создание массивов и базовые свойства"
   ]
  },
  {
   "cell_type": "code",
   "execution_count": 1,
   "id": "cfcfec5f-2530-4d93-bcba-17b3986210c2",
   "metadata": {},
   "outputs": [
    {
     "name": "stdout",
     "output_type": "stream",
     "text": [
      "x = [1 2 3] | dtype: int32\n"
     ]
    }
   ],
   "source": [
    "import numpy as np\n",
    "import scipy.linalg\n",
    "from scipy import special\n",
    "\n",
    "\n",
    "# Создание из списка + явный тип\n",
    "x = np.array([1, 2, 3], dtype=np.int32)\n",
    "print(\"x =\", x, \"| dtype:\", x.dtype)"
   ]
  },
  {
   "cell_type": "code",
   "execution_count": 2,
   "id": "57704cc9-2c6c-4ee0-9185-88a0b4d0c91d",
   "metadata": {},
   "outputs": [
    {
     "name": "stdout",
     "output_type": "stream",
     "text": [
      "A = [ 0  1  2  3  4  5  6  7  8  9 10 11 12 13 14 15 16 17 18 19 20]\n",
      "B = [0.   0.05 0.1  0.15 0.2  0.25 0.3  0.35 0.4  0.45 0.5  0.55 0.6  0.65\n",
      " 0.7  0.75 0.8  0.85 0.9  0.95 1.  ]\n"
     ]
    }
   ],
   "source": [
    "# Последовательности чисел\n",
    "A = np.arange(21)                   # 0,1,2,..,19,20\n",
    "print(\"A =\", A)\n",
    "\n",
    "B = np.linspace(0.0, 1.0, 21)      # 21 точка от 0 до 1 включительно\n",
    "print(\"B =\", B)"
   ]
  },
  {
   "cell_type": "code",
   "execution_count": 3,
   "id": "9c4c5a13-7789-410f-822f-48d5355da335",
   "metadata": {},
   "outputs": [
    {
     "name": "stdout",
     "output_type": "stream",
     "text": [
      "Z:\n",
      " [[0. 0. 0.]\n",
      " [0. 0. 0.]]\n",
      "O:\n",
      " [[1. 1. 1.]\n",
      " [1. 1. 1.]]\n",
      "F:\n",
      " [[7 7 7]\n",
      " [7 7 7]]\n",
      "I:\n",
      " [[1. 0. 0.]\n",
      " [0. 1. 0.]\n",
      " [0. 0. 1.]]\n"
     ]
    }
   ],
   "source": [
    "# Матрицы-заготовки\n",
    "Z = np.zeros((2, 3))               # все нули\n",
    "O = np.ones((2, 3))                # все единицы\n",
    "F = np.full((2, 3), 7)             # все семерки\n",
    "I = np.eye(3)                      # единичная матрица 3х3\n",
    "print(\"Z:\\n\", Z)\n",
    "print(\"O:\\n\", O)\n",
    "print(\"F:\\n\", F)\n",
    "print(\"I:\\n\", I)"
   ]
  },
  {
   "cell_type": "code",
   "execution_count": 4,
   "id": "730dc87a-f555-4e95-9e5a-32b0fe289be8",
   "metadata": {},
   "outputs": [
    {
     "name": "stdout",
     "output_type": "stream",
     "text": [
      "M:\n",
      " [[ 1  2  3  4]\n",
      " [ 5  6  7  8]\n",
      " [ 9 10 11 12]]\n",
      "shape: (3, 4) | ndim: 2 | size: 12 | dtype: int64\n",
      "M:\n",
      " [[ 1  2  3]\n",
      " [ 4  5  6]\n",
      " [ 7  8  9]\n",
      " [10 11 12]]\n",
      "shape: (4, 3) | ndim: 2 | size: 12 | dtype: int32\n"
     ]
    }
   ],
   "source": [
    "# Базовые свойства формы и размера\n",
    "M = np.arange(1, 13).reshape(3, 4)   # меняем форму без копии данных\n",
    "print(\"M:\\n\", M)\n",
    "print(\"shape:\", M.shape, \"| ndim:\", M.ndim, \"| size:\", M.size, \"| dtype:\", M.dtype)\n",
    "M = np.array(M, dtype=np.int32)\n",
    "M = M.reshape(4, 3)\n",
    "print(\"M:\\n\", M)\n",
    "print(\"shape:\", M.shape, \"| ndim:\", M.ndim, \"| size:\", M.size, \"| dtype:\", M.dtype)"
   ]
  },
  {
   "cell_type": "code",
   "execution_count": 5,
   "id": "5522d400-d310-4f3e-aa59-ed487ee19da6",
   "metadata": {},
   "outputs": [
    {
     "name": "stdout",
     "output_type": "stream",
     "text": [
      "M32 dtype: float32\n",
      "[[ 1  2  3  4  5  6]\n",
      " [ 7  8  9 10 11 12]]\n"
     ]
    }
   ],
   "source": [
    "# Преобразование типа (создаёт копию)\n",
    "M32 = M.astype(np.float32)\n",
    "print(\"M32 dtype:\", M32.dtype)\n",
    "print(M.reshape(2, -1))"
   ]
  },
  {
   "cell_type": "code",
   "execution_count": 6,
   "id": "90d89fe5-155b-4e22-9e65-8a552cd5cf60",
   "metadata": {},
   "outputs": [
    {
     "name": "stdout",
     "output_type": "stream",
     "text": [
      "R:\n",
      " [[0 1 2 3]\n",
      " [4 5 6 7]] shape: (2, 4)\n"
     ]
    }
   ],
   "source": [
    "# Автоматический размер в reshape  через -1 (подбирается NumPy)\n",
    "R = np.arange(8).reshape(2, -1)  # -1 => автоматически перераспределяется в 4 столбца\n",
    "print(\"R:\\n\", R, \"shape:\", R.shape)"
   ]
  },
  {
   "cell_type": "markdown",
   "id": "14fcd673-c4ce-44e1-92b0-604481339de4",
   "metadata": {},
   "source": [
    "\n",
    "\n",
    "### Индексация и срезы массивов"
   ]
  },
  {
   "cell_type": "code",
   "execution_count": 7,
   "id": "c1e4e65e-5419-4ab3-9b3a-ac71786f8a2f",
   "metadata": {},
   "outputs": [
    {
     "name": "stdout",
     "output_type": "stream",
     "text": [
      "A:\n",
      " [[ 1  2  3  4]\n",
      " [ 5  6  7  8]\n",
      " [ 9 10 11 12]]\n",
      "A[1, 2] = 7\n",
      "A[0, :] = [1 2 3 4]\n",
      "A[:, 1] = [ 2  6 10]\n",
      "S:\n",
      " [[2 3]\n",
      " [6 7]]\n",
      "После изменений S:\n",
      " [[ 1 -1  3  4]\n",
      " [ 5  6  7  8]\n",
      " [ 9 10 11 12]]\n"
     ]
    }
   ],
   "source": [
    "A = np.arange(1, 13).reshape(3, 4)   # меняем форму без копии данных\n",
    "print(\"A:\\n\", A)\n",
    "\n",
    "# Доступ к элементу по индексу (строка, столбец)\n",
    "print(\"A[1, 2] =\", A[1, 2])          #элемент во 2-ой строке и 3-ем столбце\n",
    "\n",
    "# Срезы (slice) по строкам и столбцам\n",
    "print(\"A[0, :] =\", A[0, :])          # вся первая строка\n",
    "print(\"A[:, 1] =\", A[:, 1])          # весь второй столбец\n",
    "\n",
    "# Подмассив срезом\n",
    "S = A[0:2, 1:3]\n",
    "print(\"S:\\n\", S)\n",
    "\n",
    "# Изменение через срез отражается в исходном массиве\n",
    "S[0, 0] = -1\n",
    "print(\"После изменений S:\\n\", A)"
   ]
  },
  {
   "cell_type": "markdown",
   "id": "28747b9e-c8ef-4836-865a-f7331a9b6034",
   "metadata": {},
   "source": [
    "\n",
    "\n",
    "### Булева индексация (фильтрация данных)"
   ]
  },
  {
   "cell_type": "code",
   "execution_count": 8,
   "id": "75f7dbae-098c-4dd1-9bc9-ed8db1979ec0",
   "metadata": {},
   "outputs": [
    {
     "name": "stdout",
     "output_type": "stream",
     "text": [
      "A:\n",
      " [[ 0  1  2  3]\n",
      " [ 4  5  6  7]\n",
      " [ 8  9 10 11]] \n",
      "\n",
      "Маска:\n",
      " [[ True False  True False]\n",
      " [ True False  True False]\n",
      " [ True False  True False]] \n",
      "\n",
      "Чётные элементы:\n",
      " [ 0  2  4  6  8 10] \n",
      "\n",
      "Нечётные элементы:\n",
      " [ 1  3  5  7  9 11] \n",
      "\n",
      "Все элементы:\n",
      " [ 0  1  2  3  4  5  6  7  8  9 10 11] \n",
      "\n",
      "Маска (A > 3) & (A < 10):\n",
      " [[False False False False]\n",
      " [ True  True  True  True]\n",
      " [ True  True False False]]\n",
      "Элементы от 4 до 9: [4 5 6 7 8 9] \n",
      "\n",
      "Маска np.logical_and((A > 3), (A < 10)):\n",
      " [[False False False False]\n",
      " [ True  True  True  True]\n",
      " [ True  True False False]]\n",
      "Элементы от 4 до 9: [4 5 6 7 8 9] \n",
      "\n"
     ]
    }
   ],
   "source": [
    "A = np.arange(12).reshape(3, 4)\n",
    "print(\"A:\\n\", A, \"\\n\")\n",
    "\n",
    "# Булева маска: True для чётных элементов\n",
    "mask = (A % 2 == 0)\n",
    "print(\"Маска:\\n\", mask, \"\\n\")\n",
    "\n",
    "# Применение маски\n",
    "print(\"Чётные элементы:\\n\", A[mask], \"\\n\")\n",
    "print(\"Нечётные элементы:\\n\", A[~mask] , \"\\n\")\n",
    "print(\"Все элементы:\\n\", A[np.logical_or(mask, np.logical_not(mask))] , \"\\n\")\n",
    "\n",
    "# Булева маска для диапазона значений\n",
    "mask2 = (A > 3) & (A < 10)\n",
    "print(\"Маска (A > 3) & (A < 10):\\n\", mask2)\n",
    "F = A[mask2]\n",
    "print(\"Элементы от 4 до 9:\", F, \"\\n\")\n",
    "print(\"Маска np.logical_and((A > 3), (A < 10)):\\n\", np.logical_and((A > 3), (A < 10)))\n",
    "print(\"Элементы от 4 до 9:\", A[np.logical_and((A > 3), (A < 10))], \"\\n\")"
   ]
  },
  {
   "cell_type": "markdown",
   "id": "8b729199-0321-4d68-8a08-b745d54363b9",
   "metadata": {},
   "source": [
    "\n",
    "\n",
    "### Продвинутая индексация (fance indexing) пересечение строк со столбцами - \\#"
   ]
  },
  {
   "cell_type": "code",
   "execution_count": 9,
   "id": "b0b95ec6-b56b-4c9e-b190-055513f4898c",
   "metadata": {
    "jupyter": {
     "source_hidden": true
    }
   },
   "outputs": [
    {
     "name": "stdout",
     "output_type": "stream",
     "text": [
      "A = np.arange(12).reshape(3, 4)\n",
      " A:\n",
      " [[ 0  1  2  3]\n",
      " [ 4  5  6  7]\n",
      " [ 8  9 10 11]] \n",
      "A.shape: (3, 4) \n",
      "\n",
      "rows: [0, 2] \n",
      "\n",
      "Строки 0 и 2\n",
      " R = A[rows] \n",
      " R:\n",
      " [[ 0  1  2  3]\n",
      " [ 8  9 10 11]] \n",
      "R.shape: (2, 4) \n",
      "\n",
      "rows = np.array([0, 2]) \n",
      " rows rows.shape:\n",
      " [0 2] (2,) \n",
      "\n",
      "cols = np.array([1, 3]) \n",
      " cols cols.shape:\n",
      " [1 3] (2,) \n",
      "\n",
      "Транспонирование строки 0 и 2:\n",
      " rows[:,None] rows[:,None].shape:\n",
      " [[0]\n",
      " [2]] (2, 1)\n",
      "\n",
      "Тождество np.array([[0], [2]])==rows[:,None] :\n",
      " [[ True]\n",
      " [ True]]\n",
      "(2, 1) (2, 1) \n",
      "\n",
      "\n",
      "Элементы по координатам:\n",
      " F = A[np.array([0, 2])[:,None], cols] | F:\n",
      " [[ 1  3]\n",
      " [ 9 11]]\n",
      "rows: [0 2] cols: [1 3]\n",
      "rows.shape: (2,) cols.shape: (2,)\n",
      "Элементы по координатам 2:\n",
      " [ 1 11]\n",
      "\n",
      "Столбцы в новом порядке:\n",
      " [[ 2  0  3  1]\n",
      " [ 6  4  7  5]\n",
      " [10  8 11  9]]\n"
     ]
    }
   ],
   "source": [
    "A = np.arange(12).reshape(3, 4)\n",
    "print(\"A = np.arange(12).reshape(3, 4)\\n A:\\n\", A, \"\\nA.shape:\", A.shape, \"\\n\")\n",
    "\n",
    "# Выбор целых строк\n",
    "rows = [0, 2]\n",
    "print(\"rows:\", rows, \"\\n\")\n",
    "\n",
    "R = A[rows]\n",
    "print(\"Строки 0 и 2\\n R = A[rows] \\n R:\\n\", R,\"\\nR.shape:\", R.shape, \"\\n\")\n",
    "\n",
    "# Выбор элементов по координатам\n",
    "rows = np.array([0, 2])\n",
    "print(\"rows = np.array([0, 2]) \\n rows rows.shape:\\n\", rows,rows.shape, \"\\n\")\n",
    "cols = np.array([1, 3])\n",
    "print(\"cols = np.array([1, 3]) \\n cols cols.shape:\\n\", cols,cols.shape, \"\\n\")\n",
    "\n",
    "print(\"Транспонирование строки 0 и 2:\\n rows[:,None] rows[:,None].shape:\\n\", rows[:,None], rows[:,None].shape)\n",
    "\n",
    "print(\"\\nТождество np.array([[0], [2]])==rows[:,None] :\\n\", np.array([[0], [2]])==rows[:,None])\n",
    "\n",
    "print(np.array([[0], [2]]).shape,rows[:,None].shape,\"\\n\")\n",
    "\n",
    "F = A[np.array([0, 2])[:,None], cols]\n",
    "print(\"\\nЭлементы по координатам:\\n F = A[np.array([0, 2])[:,None], cols] | F:\\n\", F)\n",
    "\n",
    "print(\"rows:\", rows, \"cols:\", cols)\n",
    "print(\"rows.shape:\", rows.shape,\"cols.shape:\", cols.shape)\n",
    "\n",
    "F1 = A[rows, cols]\n",
    "print(\"Элементы по координатам 2:\\n\", F1)\n",
    "\n",
    "#Перестановка столбцов\n",
    "print(\"\\nСтолбцы в новом порядке:\\n\", A[:,[2,0,3,1]])"
   ]
  },
  {
   "cell_type": "raw",
   "id": "b87256cf-630a-40b8-a3bf-6fc8a2188a58",
   "metadata": {},
   "source": [
    "### Универсальные функции (ufuc)"
   ]
  },
  {
   "cell_type": "code",
   "execution_count": 10,
   "id": "beea2e33-d79d-4ebc-93d0-d1de14dc2d75",
   "metadata": {
    "scrolled": true
   },
   "outputs": [
    {
     "name": "stdout",
     "output_type": "stream",
     "text": [
      "Унарные функции:\n",
      "np.sqrt(x): [1. 2. 3. 4.]\n",
      "np.exp(x): [2.71828183e+00 5.45981500e+01 8.10308393e+03 8.88611052e+06]\n",
      "np.log(x): [0.         1.38629436 2.19722458 2.77258872]\n",
      "np.log10(x): [0.         0.60205999 0.95424251 1.20411998]\n",
      "np.sin(x): [ 0.84147098 -0.7568025   0.41211849 -0.28790332]\n",
      "np.cos(x): [ 0.54030231 -0.65364362 -0.91113026 -0.95765948]\n",
      "np.tan(x): [ 1.55740772  1.15782128 -0.45231566  0.30063224]\n",
      "np.arcsin(x/100): [0.01000017 0.04001067 0.09012195 0.16069065]\n",
      "np.arccos(x/100): [1.56079616 1.53078565 1.48067438 1.41010567]\n",
      "np.arctan(x): [0.78539816 1.32581766 1.46013911 1.50837752]\n",
      "np.abs(x): [ 1  4  9 16]\n",
      "np.negative(x): [ -1  -4  -9 -16]\n",
      "np.reciprocal(x): [1 0 0 0]\n",
      "np.square(x): [  1  16  81 256]\n",
      "np.sign(x): [1 1 1 1]\n",
      "np.ceil(x): [ 1  4  9 16]\n",
      "np.floor(x): [ 1  4  9 16]\n",
      "np.round(x): [ 1  4  9 16]\n",
      "np.isfinite(x): [ True  True  True  True]\n",
      "np.isnan(x): [False False False False]\n",
      "np.isinf(x): [False False False False]\n",
      "\n",
      "Бинарные функции:\n",
      "a + b: [11 22 33 44]\n",
      "a - b: [ -9 -18 -27 -36]\n",
      "a * b: [ 10  40  90 160]\n",
      "a / b: [0.1 0.1 0.1 0.1]\n",
      "a // b: [0 0 0 0]\n",
      "a % b: [1 2 3 4]\n",
      "a ** b: [              1         1048576 205891132094649               0]\n",
      "a > b: [False False False False]\n",
      "a < b: [ True  True  True  True]\n",
      "a >= b: [False False False False]\n",
      "a <= b: [ True  True  True  True]\n",
      "a == b: [False False False False]\n",
      "a != b: [ True  True  True  True]\n",
      "max(a,b): [10 20 30 40]\n",
      "min(a,b): [1 2 3 4]\n",
      "a & b: [0 0 2 0]\n",
      "a | b: [11 22 31 44]\n",
      "a ^ b: [11 22 29 44]\n",
      "arctan2(a,b): [0.09966865 0.09966865 0.09966865 0.09966865]\n",
      "hypot(a,b): [10.04987562 20.09975124 30.14962686 40.19950248]\n",
      "copysign(a,b): [1. 2. 3. 4.]\n",
      "\n",
      "Агрегирующие (CТАТИСТИЧЕСКИЕ) функции:\n",
      "np.sum(a): 10\n",
      "np.prod(a): 24\n",
      "np.mean(a): 2.5\n",
      "np.std(a): 1.118033988749895\n",
      "np.var(a): 1.25\n",
      "np.min(a): 1\n",
      "np.max(a): 4\n",
      "np.argmin(a): 0\n",
      "np.argmax(a): 3\n",
      "\n",
      "A:\n",
      " [[1 2 3]\n",
      " [4 5 6]\n",
      " [7 8 9]]\n",
      "Сумма по строкам np.sum(A, axis=1): [ 6 15 24]\n",
      "Сумма по столбцам np.sum(A, axis=0): [12 15 18]\n",
      "Седнее по столбцам np.mean(A, axis=0): [4. 5. 6.]\n",
      "\n",
      "Дополнительные унарные функции:\n",
      "np.radians(x): [0.01745329 0.06981317 0.15707963 0.27925268]\n",
      "np.degrees(x): [ 57.29577951 229.18311805 515.66201562 916.73247221]\n",
      "np.sinh(x): [1.17520119e+00 2.72899172e+01 4.05154190e+03 4.44305526e+06]\n",
      "np.cosh(x): [1.54308063e+00 2.73082328e+01 4.05154203e+03 4.44305526e+06]\n",
      "np.tanh(x): [0.76159416 0.9993293  0.99999997 1.        ]\n",
      "np.arcsinh(x): [0.88137359 2.09471255 2.89344399 3.46671104]\n",
      "np.arccosh(x + 1): [1.3169579  2.29243167 2.99322285 3.52549435]\n",
      "np.arctanh(x/100): [0.01000033 0.04002135 0.09024419 0.1613867 ]\n",
      "np.cbrt(x): [1.         1.58740105 2.08008382 2.5198421 ]\n",
      "np.log1p(x): [0.69314718 1.60943791 2.30258509 2.83321334]\n",
      "np.expm1(x): [1.71828183e+00 5.35981500e+01 8.10208393e+03 8.88610952e+06]\n",
      "np.positive(x): [ 1  4  9 16]\n",
      "np.conj(x): [ 1  4  9 16]\n",
      "np.real(x): [ 1  4  9 16]\n",
      "np.imag(x): [0 0 0 0]\n",
      "np.angle(x): [0. 0. 0. 0.]\n",
      "\n",
      "Дополнительные бинарные функции:\n",
      "np.fmax(a,b): [10 20 30 40]\n",
      "np.fmin(a,b): [1 2 3 4]\n",
      "np.fmod(a,b): [1 2 3 4]\n",
      "np.ldexp(a, b): [1.02400000e+03 2.09715200e+06 3.22122547e+09 4.39804651e+12]\n",
      "np.logaddexp(a,b): [10.0001234  20.00000002 30.         40.        ]\n",
      "np.logaddexp2(a,b): [10.00281502 20.0000055  30.00000001 40.        ]\n",
      "np.nextafter(a,b): [1. 2. 3. 4.]\n",
      "np.remainder(a,b): [1 2 3 4]\n",
      "np.true_divide(a,b): [0.1 0.1 0.1 0.1]\n",
      "np.left_shift(a,1): [2 4 6 8]\n",
      "np.right_shift(a,1): [0 1 1 2]\n",
      "\n",
      "Специальные математические функции (из scipy.special):\n",
      "special.gamma(x): [1.00000000e+00 6.00000000e+00 4.03200000e+04 1.30767437e+12]\n",
      "special.loggamma(x): [ 0.          1.79175947 10.6046029  27.89927138]\n",
      "special.erf(x): [0.84270079 0.99999998 1.         1.        ]\n",
      "special.erfc(x): [1.57299207e-001 1.54172579e-008 4.13703175e-037 2.32848575e-113]\n",
      "special.erfinv(x/10): [0.08885599 0.37080716 1.16308715        nan]\n",
      "special.i0(x): [1.26606588e+00 1.13019220e+01 1.09358835e+03 8.93446228e+05]\n",
      "special.sinc(x): [ 3.89817183e-17 -3.89817183e-17  3.89817183e-17 -3.89817183e-17]\n",
      "\n",
      "Логические функции:\n",
      "np.logical_and(a>2, b<30): [False False False False]\n",
      "np.logical_or(a>2, b<30): [ True  True  True  True]\n",
      "np.logical_xor(a>2, b<30): [ True  True  True  True]\n",
      "np.logical_not(a>2): [ True  True False False]\n",
      "\n",
      "Функции проверки:\n",
      "np.isreal(x): [ True  True  True  True]\n",
      "np.iscomplex(x): [False False False False]\n",
      "np.isfinite(x): [ True  True  True  True]\n",
      "np.isposinf(x): [False False False False]\n",
      "np.isneginf(x): [False False False False]\n"
     ]
    }
   ],
   "source": [
    "x = np.array([1, 4, 9, 16])\n",
    "a = np.array([1, 2, 3, 4])\n",
    "b = np.array([10, 20, 30, 40])\n",
    "\n",
    "print(\"Унарные функции:\")\n",
    "print(\"np.sqrt(x):\", np.sqrt(x))        # квадратный корень\n",
    "print(\"np.exp(x):\", np.exp(x))          # экспонента\n",
    "print(\"np.log(x):\", np.log(x))          # натуральный логарифм\n",
    "print(\"np.log10(x):\", np.log10(x))      # десятичный логарифм\n",
    "print(\"np.sin(x):\", np.sin(x))          # синус\n",
    "print(\"np.cos(x):\", np.cos(x))          # косинус\n",
    "print(\"np.tan(x):\", np.tan(x))          # тангенс\n",
    "print(\"np.arcsin(x/100):\", np.arcsin(x/100))  # арксинус\n",
    "print(\"np.arccos(x/100):\", np.arccos(x/100))  # арккосинус\n",
    "print(\"np.arctan(x):\", np.arctan(x))    # арктангенс\n",
    "print(\"np.abs(x):\", np.abs(x))          # модуль\n",
    "print(\"np.negative(x):\", np.negative(x))# смена знака\n",
    "print(\"np.reciprocal(x):\", np.reciprocal(x))  # обратное значение\n",
    "print(\"np.square(x):\", np.square(x))    # квадрат\n",
    "print(\"np.sign(x):\", np.sign(x))        # знак числа\n",
    "print(\"np.ceil(x):\", np.ceil(x))        # округление вверх\n",
    "print(\"np.floor(x):\", np.floor(x))      # округление вниз\n",
    "print(\"np.round(x):\", np.round(x))      # округление\n",
    "print(\"np.isfinite(x):\", np.isfinite(x))# проверка на конечность\n",
    "print(\"np.isnan(x):\", np.isnan(x))      # проверка на NaN\n",
    "print(\"np.isinf(x):\", np.isinf(x))      # проверка на бесконечность\n",
    "\n",
    "# Бинарные ufunc (два массива на входе)\n",
    "print(\"\\nБинарные функции:\")\n",
    "print(\"a + b:\", np.add(a, b))           # сложение\n",
    "print(\"a - b:\", np.subtract(a, b))      # вычитание\n",
    "print(\"a * b:\", np.multiply(a, b))      # умножение\n",
    "print(\"a / b:\", np.divide(a, b))        # деление\n",
    "print(\"a // b:\", np.floor_divide(a, b)) # целочисленное деление\n",
    "print(\"a % b:\", np.mod(a, b))           # остаток от деления\n",
    "print(\"a ** b:\", np.power(a, b))        # возведение в степень\n",
    "print(\"a > b:\", np.greater(a, b))       # больше\n",
    "print(\"a < b:\", np.less(a, b))          # меньше\n",
    "print(\"a >= b:\", np.greater_equal(a, b))# больше или равно\n",
    "print(\"a <= b:\", np.less_equal(a, b))   # меньше или равно\n",
    "print(\"a == b:\", np.equal(a, b))        # равно\n",
    "print(\"a != b:\", np.not_equal(a, b))    # не равно\n",
    "print(\"max(a,b):\", np.maximum(a, b))    # поэлементный максимум\n",
    "print(\"min(a,b):\", np.minimum(a, b))    # поэлементный минимум\n",
    "print(\"a & b:\", np.bitwise_and(a, b))   # побитовое И\n",
    "print(\"a | b:\", np.bitwise_or(a, b))    # побитовое ИЛИ\n",
    "print(\"a ^ b:\", np.bitwise_xor(a, b))   # побитовое XOR\n",
    "print(\"arctan2(a,b):\", np.arctan2(a, b))# арктангенс от a/b\n",
    "print(\"hypot(a,b):\", np.hypot(a, b))    # гипотенуза sqrt(a² + b²)\n",
    "print(\"copysign(a,b):\", np.copysign(a, b))  # копирование знака\n",
    "\n",
    "# Полезные агрегирующие (CТАТИСТИЧЕСКИЕ) ufunc:\n",
    "print(\"\\nАгрегирующие (CТАТИСТИЧЕСКИЕ) функции:\")\n",
    "print(\"np.sum(a):\", np.sum(a))          # сумма всех элементов\n",
    "print(\"np.prod(a):\", np.prod(a))        # произведение всех элементов\n",
    "print(\"np.mean(a):\", np.mean(a))        # среднее значение\n",
    "print(\"np.std(a):\", np.std(a))          # стандартное отклонение\n",
    "print(\"np.var(a):\", np.var(a))          # дисперсия\n",
    "print(\"np.min(a):\", np.min(a))          # минимальное значение\n",
    "print(\"np.max(a):\", np.max(a))          # максимальное значение\n",
    "print(\"np.argmin(a):\", np.argmin(a))    # индекс минимального элемента\n",
    "print(\"np.argmax(a):\", np.argmax(a))    # индекс максимального элемента\n",
    "\n",
    "# Статистика по осям\n",
    "A = np.arange(1,10).reshape(3, 3)\n",
    "print(\"\\nA:\\n\", A)\n",
    "print(\"Сумма по строкам np.sum(A, axis=1):\", np.sum(A, axis=1))          # сумма всех элементов\n",
    "print(\"Сумма по столбцам np.sum(A, axis=0):\", np.sum(A, axis=0))          # сумма всех элементов\n",
    "print(\"Седнее по столбцам np.mean(A, axis=0):\", np.mean(A, axis=0))        # среднее значение\n",
    "\n",
    "# Дополнительные унарные ufunc:\n",
    "print(\"\\nДополнительные унарные функции:\")\n",
    "print(\"np.radians(x):\", np.radians(x))      # градусы в радианы\n",
    "print(\"np.degrees(x):\", np.degrees(x))      # радианы в градусы\n",
    "print(\"np.sinh(x):\", np.sinh(x))            # гиперболический синус\n",
    "print(\"np.cosh(x):\", np.cosh(x))            # гиперболический косинус\n",
    "print(\"np.tanh(x):\", np.tanh(x))            # гиперболический тангенс\n",
    "print(\"np.arcsinh(x):\", np.arcsinh(x))      # обратный гиперболический синус\n",
    "print(\"np.arccosh(x + 1):\", np.arccosh(x + 1)) # обратный гиперб. косинус\n",
    "print(\"np.arctanh(x/100):\", np.arctanh(x/100)) # обратный гиперб. тангенс\n",
    "print(\"np.cbrt(x):\", np.cbrt(x))            # кубический корень\n",
    "print(\"np.log1p(x):\", np.log1p(x))          # log(1 + x) - точный для малых x\n",
    "print(\"np.expm1(x):\", np.expm1(x))          # exp(x) - 1 - точный для малых x\n",
    "print(\"np.positive(x):\", np.positive(x))    # унарный плюс (копирование)\n",
    "print(\"np.conj(x):\", np.conj(x))            # комплексное сопряжение\n",
    "print(\"np.real(x):\", np.real(x))            # действительная часть\n",
    "print(\"np.imag(x):\", np.imag(x))            # мнимая часть\n",
    "print(\"np.angle(x):\", np.angle(x))          # фаза комплексного числа\n",
    "\n",
    "# Дополнительные бинарные ufunc:\n",
    "print(\"\\nДополнительные бинарные функции:\")\n",
    "print(\"np.fmax(a,b):\", np.fmax(a, b))       # максимум (игнорирует NaN)\n",
    "print(\"np.fmin(a,b):\", np.fmin(a, b))       # минимум (игнорирует NaN)\n",
    "print(\"np.fmod(a,b):\", np.fmod(a, b))       # остаток от деления (как fmod в C)\n",
    "print(\"np.ldexp(a, b):\", np.ldexp(a, b))    # a * 2^b\n",
    "print(\"np.logaddexp(a,b):\", np.logaddexp(a, b)) # log(exp(a) + exp(b))\n",
    "print(\"np.logaddexp2(a,b):\", np.logaddexp2(a, b)) # log2(exp2(a) + exp2(b))\n",
    "print(\"np.nextafter(a,b):\", np.nextafter(a, b)) # следующее число после a в направлении b\n",
    "print(\"np.remainder(a,b):\", np.remainder(a, b)) # остаток (как %)\n",
    "print(\"np.true_divide(a,b):\", np.true_divide(a, b)) # истинное деление\n",
    "print(\"np.left_shift(a,1):\", np.left_shift(a, 1)) # побитовый сдвиг влево\n",
    "print(\"np.right_shift(a,1):\", np.right_shift(a, 1)) # побитовый сдвиг вправо\n",
    "\n",
    "# Специальные математические ufunc:\n",
    "print(\"\\nСпециальные математические функции (из scipy.special):\")\n",
    "print(\"special.gamma(x):\", special.gamma(x))          # гамма-функция\n",
    "print(\"special.loggamma(x):\", special.loggamma(x))    # логарифм гамма-функции\n",
    "print(\"special.erf(x):\", special.erf(x))              # функция ошибок\n",
    "print(\"special.erfc(x):\", special.erfc(x))            # дополнение функции ошибок\n",
    "print(\"special.erfinv(x/10):\", special.erfinv(x/10))  # обратная функция ошибок\n",
    "print(\"special.i0(x):\", special.i0(x))                # модиф. функция Бесселя 0-го рода\n",
    "print(\"special.sinc(x):\", special.sinc(x))            # sinc функция\n",
    "\n",
    "# Логические ufunc:\n",
    "print(\"\\nЛогические функции:\")\n",
    "print(\"np.logical_and(a>2, b<30):\", np.logical_and(a>2, b<30))\n",
    "print(\"np.logical_or(a>2, b<30):\", np.logical_or(a>2, b<30))\n",
    "print(\"np.logical_xor(a>2, b<30):\", np.logical_xor(a>2, b<30))\n",
    "print(\"np.logical_not(a>2):\", np.logical_not(a>2))\n",
    "\n",
    "#Проверки:\n",
    "print(\"\\nФункции проверки:\")\n",
    "print(\"np.isreal(x):\", np.isreal(x))        # проверка на действительное число\n",
    "print(\"np.iscomplex(x):\", np.iscomplex(x))  # проверка на комплексное число\n",
    "print(\"np.isfinite(x):\", np.isfinite(x))    # проверка на конечность\n",
    "print(\"np.isposinf(x):\", np.isposinf(x))    # проверка на +бесконечность\n",
    "print(\"np.isneginf(x):\", np.isneginf(x))    # проверка на -бесконечность"
   ]
  },
  {
   "cell_type": "code",
   "execution_count": 11,
   "id": "89e1e337-d521-405f-90e4-c2f0e74df728",
   "metadata": {},
   "outputs": [],
   "source": [
    "\n",
    "\n",
    "### Линейная алгебра в NumPy"
   ]
  },
  {
   "cell_type": "code",
   "execution_count": 12,
   "id": "cc8f59be-9483-4995-9030-f24d8a98ee2b",
   "metadata": {},
   "outputs": [
    {
     "name": "stdout",
     "output_type": "stream",
     "text": [
      "Определитель матрицы A: -2.0000000000000004\n",
      "Обратная матрица A:\n",
      " [[-2.   1. ]\n",
      " [ 1.5 -0.5]]\n",
      "Умножение матриц A×B (оператор @):\n",
      " [[19 22]\n",
      " [43 50]]\n",
      "Умножение матриц A×B (функция matmul):\n",
      " [[19 22]\n",
      " [43 50]]\n",
      "След матрицы A (сумма диагональных элементов): 5\n",
      "Собственные значения A: [-0.37228132  5.37228132]\n",
      "Собственные векторы A:\n",
      " [[-0.82456484 -0.41597356]\n",
      " [ 0.56576746 -0.90937671]]\n",
      "Ранг матрицы A: 2\n",
      "Норма Фробениуса матрицы A: 5.477225575051661\n",
      "L2 норма вектора v: 2.23606797749979\n",
      "L1 норма вектора v: 3.0\n",
      "Решение СЛАУ Ax = b: [0.  0.5]\n",
      "Псевдообратная матрица A (Мур-Пенроуза):\n",
      " [[-2.   1. ]\n",
      " [ 1.5 -0.5]]\n",
      "Q матрица из QR-разложения:\n",
      " [[-0.31622777 -0.9486833 ]\n",
      " [-0.9486833   0.31622777]]\n",
      "R матрица из QR-разложения:\n",
      " [[-3.16227766 -4.42718872]\n",
      " [ 0.         -0.63245553]]\n",
      "U матрица из SVD-разложения:\n",
      " [[-0.40455358 -0.9145143 ]\n",
      " [-0.9145143   0.40455358]]\n",
      "Сингулярные значения из SVD-разложения: [5.4649857  0.36596619]\n",
      "V транспонированная из SVD-разложения:\n",
      " [[-0.57604844 -0.81741556]\n",
      " [ 0.81741556 -0.57604844]]\n",
      "P матрица перестановок из LU-разложения:\n",
      " [[0. 1.]\n",
      " [1. 0.]]\n",
      "L матрица из LU-разложения:\n",
      " [[1.         0.        ]\n",
      " [0.33333333 1.        ]]\n",
      "U матрица из LU-разложения:\n",
      " [[3.         4.        ]\n",
      " [0.         0.66666667]]\n",
      "Cholesky разложение для симметричной матрицы:\n",
      " [[2. 0.]\n",
      " [1. 2.]]\n",
      "Матричная экспонента e^A:\n",
      " [[ 51.9689562   74.73656457]\n",
      " [112.10484685 164.07380305]]\n",
      "Логарифм определителя A: SlogdetResult(sign=np.float64(-1.0), logabsdet=np.float64(0.6931471805599455))\n",
      "Условное число матрицы A: 14.933034373659268\n",
      "Тензорное произведение Кронекера A и B:\n",
      " [[ 5  6 10 12]\n",
      " [ 7  8 14 16]\n",
      " [15 18 20 24]\n",
      " [21 24 28 32]]\n",
      "Векторное произведение 3D векторов: [0 0 1]\n",
      "Скалярное произведение векторов (функция dot): 5\n",
      "Скалярное произведение векторов (оператор @): 5\n",
      "\n",
      "==================================================\n",
      "ПОЛНЫЙ ПРИМЕР ИСПОЛЬЗОВАНИЯ:\n",
      "Матрица A:\n",
      " [[4 2]\n",
      " [1 3]]\n",
      "Вектор b: [1 2]\n",
      "Определитель A: 10.000000000000002\n",
      "Обратная матрица A:\n",
      " [[ 0.3 -0.2]\n",
      " [-0.1  0.4]]\n",
      "Решение Ax = b: [-0.1  0.7]\n",
      "Собственные значения A: [5. 2.]\n"
     ]
    }
   ],
   "source": [
    "\n",
    "\n",
    "# Создадим матрицы для примеров\n",
    "A = np.array([[1, 2], [3, 4]])\n",
    "B = np.array([[5, 6], [7, 8]])\n",
    "v = np.array([1, 2])\n",
    "\n",
    "print(\"Определитель матрицы A:\", np.linalg.det(A))\n",
    "print(\"Обратная матрица A:\\n\", np.linalg.inv(A))\n",
    "print(\"Умножение матриц A×B (оператор @):\\n\", A @ B)\n",
    "print(\"Умножение матриц A×B (функция matmul):\\n\", np.matmul(A, B))\n",
    "print(\"След матрицы A (сумма диагональных элементов):\", np.trace(A))\n",
    "\n",
    "eigenvalues, eigenvectors = np.linalg.eig(A)\n",
    "print(\"Собственные значения A:\", eigenvalues)\n",
    "print(\"Собственные векторы A:\\n\", eigenvectors)\n",
    "print(\"Ранг матрицы A:\", np.linalg.matrix_rank(A))\n",
    "print(\"Норма Фробениуса матрицы A:\", np.linalg.norm(A))\n",
    "print(\"L2 норма вектора v:\", np.linalg.norm(v))\n",
    "print(\"L1 норма вектора v:\", np.linalg.norm(v, ord=1))\n",
    "\n",
    "b = np.array([1, 2])\n",
    "x = np.linalg.solve(A, b)\n",
    "print(\"Решение СЛАУ Ax = b:\", x)\n",
    "print(\"Псевдообратная матрица A (Мур-Пенроуза):\\n\", np.linalg.pinv(A))\n",
    "\n",
    "Q, R = np.linalg.qr(A)\n",
    "print(\"Q матрица из QR-разложения:\\n\", Q)\n",
    "print(\"R матрица из QR-разложения:\\n\", R)\n",
    "\n",
    "U, S, Vt = np.linalg.svd(A)\n",
    "print(\"U матрица из SVD-разложения:\\n\", U)\n",
    "print(\"Сингулярные значения из SVD-разложения:\", S)\n",
    "print(\"V транспонированная из SVD-разложения:\\n\", Vt)\n",
    "\n",
    "# LU-разложение доступно в scipy (отсутствует в numpy.linalg)\n",
    "P, L, U_lu = scipy.linalg.lu(A)\n",
    "print(\"P матрица перестановок из LU-разложения:\\n\", P)\n",
    "print(\"L матрица из LU-разложения:\\n\", L)\n",
    "print(\"U матрица из LU-разложения:\\n\", U_lu)\n",
    "\n",
    "# Только для симметричных положительно определенных матриц\n",
    "C = np.array([[4, 2], [2, 5]])\n",
    "L_chol = np.linalg.cholesky(C)\n",
    "print(\"Cholesky разложение для симметричной матрицы:\\n\", L_chol)\n",
    "\n",
    "# Матричная экспонента также доступна в scipy.linalg\n",
    "print(\"Матричная экспонента e^A:\\n\", scipy.linalg.expm(A))\n",
    "print(\"Логарифм определителя A:\", np.linalg.slogdet(A))\n",
    "print(\"Условное число матрицы A:\", np.linalg.cond(A))\n",
    "print(\"Тензорное произведение Кронекера A и B:\\n\", np.kron(A, B))\n",
    "\n",
    "a_3d = np.array([1, 0, 0])\n",
    "b_3d = np.array([0, 1, 0])\n",
    "print(\"Векторное произведение 3D векторов:\", np.cross(a_3d, b_3d))\n",
    "print(\"Скалярное произведение векторов (функция dot):\", np.dot(v, v))\n",
    "print(\"Скалярное произведение векторов (оператор @):\", v @ v)\n",
    "\n",
    "# Полный пример использования\n",
    "print(\"\\n\" + \"=\"*50)\n",
    "print(\"ПОЛНЫЙ ПРИМЕР ИСПОЛЬЗОВАНИЯ:\")\n",
    "A_example = np.array([[4, 2], [1, 3]])\n",
    "b_example = np.array([1, 2])\n",
    "print(\"Матрица A:\\n\", A_example)\n",
    "print(\"Вектор b:\", b_example)\n",
    "print(\"Определитель A:\", np.linalg.det(A_example))\n",
    "print(\"Обратная матрица A:\\n\", np.linalg.inv(A_example))\n",
    "print(\"Решение Ax = b:\", np.linalg.solve(A_example, b_example))\n",
    "print(\"Собственные значения A:\", np.linalg.eig(A_example)[0])"
   ]
  },
  {
   "cell_type": "code",
   "execution_count": 13,
   "id": "3980c96f-e071-43ad-88b8-9a945af13655",
   "metadata": {},
   "outputs": [],
   "source": [
    "\n",
    "\n",
    "### Генерация случайных чисел в NUmPy"
   ]
  },
  {
   "cell_type": "code",
   "execution_count": 18,
   "id": "e913ea1a-65a3-498a-8f8d-5b291d5f67cf",
   "metadata": {},
   "outputs": [
    {
     "name": "stdout",
     "output_type": "stream",
     "text": [
      "\n",
      "Генерация случайного числа от 0 до 1: 0.18485445552552704\n",
      "\n",
      "Генерация случайного числа от 0 до 1 (новый API): 0.8896014911107375\n",
      "\n",
      "Массив 3x3 случайных чисел от 0 до 1:\n",
      " [[0.96958463 0.77513282 0.93949894]\n",
      " [0.89482735 0.59789998 0.92187424]\n",
      " [0.0884925  0.19598286 0.04522729]]\n",
      "\n",
      "Массив 2x4 случайных чисел от 0 до 1 (новый API):\n",
      " [[0.65042471 0.53186476 0.19580054 0.22589953]\n",
      " [0.89572962 0.50101489 0.26719446 0.77611609]]\n",
      "\n",
      "Случайное целое число от 0 до 10: 7\n",
      "\n",
      "Массив из 5 целых чисел от 1 до 100:\n",
      " [85 80 82 53 24]\n",
      "\n",
      "Матрица 2x3 целых чисел от 5 до 50:\n",
      " [[30 29 49]\n",
      " [45 33 19]]\n",
      "\n",
      "Целое число от 0 до 10 (новый API): 4\n",
      "\n",
      "Массив из 6 целых чисел от 1 до 100 (новый API):\n",
      " [ 2 58 89 73 33 22]\n",
      "\n",
      "Выбор из списка ['A', 'B', 'C', 'D']: A\n",
      "\n",
      "Выбор 3 элементов из списка с возвратом: ['X' 'X' 'Z']\n",
      "\n",
      "Выбор 3 элементов из списка без возврата: ['Z' 'Y' 'X']\n",
      "\n",
      "Выбор из списка с заданными вероятностями: ['Lose' 'Win' 'Win' 'Win' 'Lose']\n",
      "\n",
      "Случайное число из нормального распределения (μ=0, σ=1): 0.4760425874269718\n",
      "\n",
      "5 чисел из нормального распределения (μ=10, σ=2): [12.60732254 10.42317402 11.19408929  8.20732963  9.77602436]\n",
      "\n",
      "Матрица 2x2 из нормального распределения (новый API):\n",
      " [[ 0.05638055 -1.53689912]\n",
      " [-0.14137481  1.85806711]]\n",
      "\n",
      "Случайное число из равномерного распределения [0,1): 0.37081825219826636\n",
      "\n",
      "5 чисел из равномерного распределения [5, 15): [11.68841253 11.65922357 10.91297788  7.74721793 10.61243426]\n",
      "\n",
      "Массив из равномерного распределения [0,1) (новый API):\n",
      " [0.03623458 0.23796467 0.31106898 0.93480025]\n",
      "\n",
      "Случайное число из стандартного нормального распределения: 0.32684522397001387\n",
      "\n",
      "Массив 2x3 из стандартного нормального распределения:\n",
      " [[-0.08111895  0.46779475  0.73612235]\n",
      " [-0.77970188 -0.84389636 -0.15053386]]\n",
      "\n",
      "Случайное число из стандартного нормального распределения (новый API): 1.6198196172397936\n",
      "\n",
      "Исходный массив: [1, 2, 3, 4, 5, 6, 7, 8, 9, 10]\n",
      "\n",
      "Перемешанный массив: [6, 10, 8, 2, 9, 5, 4, 1, 7, 3]\n",
      "\n",
      "Исходный массив: [1, 2, 3, 4, 5]\n",
      "\n",
      "Перемешанная копия массива: [2 1 4 3 5]\n",
      "\n",
      "Перемешанная копия массива (новый API): [4 1 3 5 2]\n",
      "\n",
      "Случайное число из экспоненциального распределения (β=1): 0.25980515691739403\n",
      "\n",
      "3 числа из экспоненциального распределения (β=2.5): [0.2002607  0.85535076 0.4395209 ]\n",
      "\n",
      "Экспоненциальное распределение (новый API): [0.22247682 0.10722161 2.7186066 ]\n",
      "\n",
      "Случайное число из распределения Пуассона (λ=3): 7\n",
      "\n",
      "Массив из распределения Пуассона (λ=5): [4 3 3 8]\n",
      "\n",
      "Распределение Пуассона (новый API): [2 7 0 5 2]\n",
      "\n",
      "Случайное число из биномиального распределения (n=10, p=0.5): 5\n",
      "\n",
      "5 чисел из биномиального распределения (n=20, p=0.3): [5 5 3 7 6]\n",
      "\n",
      "Биномиальное распределение (новый API): [5 4 5 5]\n",
      "\n",
      "Установка seed для воспроизводимости: None\n",
      "\n",
      "Два случайных числа с seed: 0.3745401188473625 0.9507143064099162\n",
      "\n",
      "Установка seed для нового API: Generator(PCG64)\n",
      "\n",
      "Два случайных числа с seed (новый API): 0.39499703283921006 0.935460103764079\n",
      "\n",
      "Выборка из бета-распределения (α=2, β=5): 0.2316626542372533\n",
      "\n",
      "Выборка из гамма-распределения (shape=2, scale=1): 4.649714412230651\n",
      "\n",
      "Генерация случайных байтов (16 байт): b'\\x01\\x03L\\xf8W\\xe9\\xd4\\xb8\\xeb\\xf5\\x1a\\xd5\\x9d\\xfdD\\xf0'\n",
      "\n",
      "Генерация случайных байтов (новый API): b'\\x128s\\xd2\\x92B\\x88\\x7f\\x18`'\n",
      "\n",
      "\n",
      "==================================================\n",
      "\n",
      "ДЕМОНСТРАЦИЯ РАЗЛИЧНЫХ РАСПРЕДЕЛЕНИЙ:\n",
      "\n",
      "Нормальное распределение (μ=0, σ=1), 5 чисел: [ 0.76743473 -0.58087813 -0.52516981 -0.57138017 -0.92408284]\n",
      "\n",
      "Равномерное распределение [0, 10), 5 чисел: [5.24756432 4.31945019 2.9122914  6.11852895 1.39493861]\n",
      "\n",
      "Биномиальное распределение (n=10, p=0.7), 5 чисел: [8 8 7 6 8]\n",
      "\n",
      "Пуассоновское распределение (λ=4), 5 чисел: [2 2 5 3 5]\n"
     ]
    }
   ],
   "source": [
    "import numpy as np\n",
    "\n",
    "# Инициализация генератора случайных чисел\n",
    "rng = np.random.default_rng()\n",
    "\n",
    "print(\"\\nГенерация случайного числа от 0 до 1:\", np.random.random())\n",
    "print(\"\\nГенерация случайного числа от 0 до 1 (новый API):\", rng.random())\n",
    "print(\"\\nМассив 3x3 случайных чисел от 0 до 1:\\n\", np.random.rand(3, 3))\n",
    "print(\"\\nМассив 2x4 случайных чисел от 0 до 1 (новый API):\\n\", rng.random((2, 4)))\n",
    "\n",
    "print(\"\\nСлучайное целое число от 0 до 10:\", np.random.randint(0, 10))\n",
    "print(\"\\nМассив из 5 целых чисел от 1 до 100:\\n\", np.random.randint(1, 100, 5))\n",
    "print(\"\\nМатрица 2x3 целых чисел от 5 до 50:\\n\", np.random.randint(5, 50, (2, 3)))\n",
    "print(\"\\nЦелое число от 0 до 10 (новый API):\", rng.integers(0, 10))\n",
    "print(\"\\nМассив из 6 целых чисел от 1 до 100 (новый API):\\n\", rng.integers(1, 100, 6))\n",
    "\n",
    "print(\"\\nВыбор из списка ['A', 'B', 'C', 'D']:\", np.random.choice(['A', 'B', 'C', 'D']))\n",
    "print(\"\\nВыбор 3 элементов из списка с возвратом:\", np.random.choice(['X', 'Y', 'Z'], size=3))\n",
    "print(\"\\nВыбор 3 элементов из списка без возврата:\", np.random.choice(['X', 'Y', 'Z'], size=3, replace=False))\n",
    "print(\"\\nВыбор из списка с заданными вероятностями:\", np.random.choice(['Win', 'Lose'], p=[0.3, 0.7], size=5))\n",
    "\n",
    "print(\"\\nСлучайное число из нормального распределения (μ=0, σ=1):\", np.random.normal())\n",
    "print(\"\\n5 чисел из нормального распределения (μ=10, σ=2):\", np.random.normal(10, 2, 5))\n",
    "print(\"\\nМатрица 2x2 из нормального распределения (новый API):\\n\", rng.normal(0, 1, (2, 2)))\n",
    "\n",
    "print(\"\\nСлучайное число из равномерного распределения [0,1):\", np.random.uniform())\n",
    "print(\"\\n5 чисел из равномерного распределения [5, 15):\", np.random.uniform(5, 15, 5))\n",
    "print(\"\\nМассив из равномерного распределения [0,1) (новый API):\\n\", rng.uniform(0, 1, 4))\n",
    "\n",
    "print(\"\\nСлучайное число из стандартного нормального распределения:\", np.random.randn())\n",
    "print(\"\\nМассив 2x3 из стандартного нормального распределения:\\n\", np.random.randn(2, 3))\n",
    "print(\"\\nСлучайное число из стандартного нормального распределения (новый API):\", rng.standard_normal())\n",
    "\n",
    "data = [1, 2, 3, 4, 5, 6, 7, 8, 9, 10]\n",
    "print(\"\\nИсходный массив:\", data)\n",
    "np.random.shuffle(data)\n",
    "print(\"\\nПеремешанный массив:\", data)\n",
    "\n",
    "data2 = [1, 2, 3, 4, 5]\n",
    "print(\"\\nИсходный массив:\", data2)\n",
    "print(\"\\nПеремешанная копия массива:\", np.random.permutation(data2))\n",
    "print(\"\\nПеремешанная копия массива (новый API):\", rng.permutation(data2))\n",
    "\n",
    "print(\"\\nСлучайное число из экспоненциального распределения (β=1):\", np.random.exponential())\n",
    "print(\"\\n3 числа из экспоненциального распределения (β=2.5):\", np.random.exponential(2.5, 3))\n",
    "print(\"\\nЭкспоненциальное распределение (новый API):\", rng.exponential(1, 3))\n",
    "\n",
    "print(\"\\nСлучайное число из распределения Пуассона (λ=3):\", np.random.poisson(3))\n",
    "print(\"\\nМассив из распределения Пуассона (λ=5):\", np.random.poisson(5, 4))\n",
    "print(\"\\nРаспределение Пуассона (новый API):\", rng.poisson(3, 5))\n",
    "\n",
    "print(\"\\nСлучайное число из биномиального распределения (n=10, p=0.5):\", np.random.binomial(10, 0.5))\n",
    "print(\"\\n5 чисел из биномиального распределения (n=20, p=0.3):\", np.random.binomial(20, 0.3, 5))\n",
    "print(\"\\nБиномиальное распределение (новый API):\", rng.binomial(10, 0.5, 4))\n",
    "\n",
    "print(\"\\nУстановка seed для воспроизводимости:\", np.random.seed(42))\n",
    "print(\"\\nДва случайных числа с seed:\", np.random.random(), np.random.random())\n",
    "\n",
    "print(\"\\nУстановка seed для нового API:\", np.random.default_rng(42))\n",
    "print(\"\\nДва случайных числа с seed (новый API):\", rng.random(), rng.random())\n",
    "\n",
    "print(\"\\nВыборка из бета-распределения (α=2, β=5):\", np.random.beta(2, 5))\n",
    "print(\"\\nВыборка из гамма-распределения (shape=2, scale=1):\", np.random.gamma(2, 1))\n",
    "\n",
    "print(\"\\nГенерация случайных байтов (16 байт):\", np.random.bytes(16))\n",
    "print(\"\\nГенерация случайных байтов (новый API):\", rng.bytes(10))\n",
    "\n",
    "# Демонстрация различных распределений\n",
    "print(\"\\n\\n\" + \"=\"*50)\n",
    "print(\"\\nДЕМОНСТРАЦИЯ РАЗЛИЧНЫХ РАСПРЕДЕЛЕНИЙ:\")\n",
    "print(\"\\nНормальное распределение (μ=0, σ=1), 5 чисел:\", np.random.normal(0, 1, 5))\n",
    "print(\"\\nРавномерное распределение [0, 10), 5 чисел:\", np.random.uniform(0, 10, 5))\n",
    "print(\"\\nБиномиальное распределение (n=10, p=0.7), 5 чисел:\", np.random.binomial(10, 0.7, 5))\n",
    "print(\"\\nПуассоновское распределение (λ=4), 5 чисел:\", np.random.poisson(4, 5))"
   ]
  },
  {
   "cell_type": "markdown",
   "id": "3d121814-1102-47c9-9ce2-7d93317a2f52",
   "metadata": {},
   "source": [
    "\n",
    "### Работа с массивами"
   ]
  },
  {
   "cell_type": "code",
   "execution_count": 46,
   "id": "627c33ed-b4df-4cae-a7a8-c13a340dcd01",
   "metadata": {},
   "outputs": [
    {
     "name": "stdout",
     "output_type": "stream",
     "text": [
      "Исходный массив a: [1 0 2 0 3 0]\n",
      "\n",
      "Индексы ненулевых элементов a - np.nonzero(a): (array([0, 2, 4]),)\n",
      "Ненулевые элементы a - a[np.nonzero(a)]: [1 2 3]\n",
      "Количество ненулевых элементов a - np.count_nonzero(a): 3\n",
      "\n",
      "Массив b:\n",
      " [[1 0 0]\n",
      " [0 2 0]\n",
      " [0 0 3]]\n",
      "Индексы ненулевых элементов b - np.nonzero(b): (array([0, 1, 2]), array([0, 1, 2]))\n",
      "Форма результата nonzero для 2D - np.array(np.nonzero(b)).T:\n",
      " [[0 0]\n",
      " [1 1]\n",
      " [2 2]]\n",
      "\n",
      "Логический массив c: [ True False  True False]\n",
      "Индексы True элементов c - np.flatnonzero(c): [0 2]\n",
      "Первый индекс True в c - np.argmax(c): 0\n",
      "\n",
      "Массив d: [3 1 4 1 5 9]\n",
      "Индекс максимального элемента d - np.argmax(d): 5\n",
      "Индекс минимального элемента d - np.argmin(d): 1\n",
      "Максимальный элемент d - np.max(d): 9\n",
      "Минимальный элемент d - np.min(d): 1\n",
      "\n",
      "Матрица e:\n",
      " [[1 5 3]\n",
      " [9 2 7]]\n",
      "Индекс максимума в flattened e - np.argmax(e): 3\n",
      "Индексы максимумов по axis=0 - np.argmax(e, axis=0): [1 0 1]\n",
      "Индексы максимумов по axis=1 - np.argmax(e, axis=1): [1 0]\n",
      "\n",
      "Массив f: [1 2 3 4 5]\n",
      "Индекс первого элемента >2 - np.argwhere(f > 2)[0, 0]: 2\n",
      "Все индексы элементов >2 - np.argwhere(f > 2): [[2]\n",
      " [3]\n",
      " [4]]\n",
      "\n",
      "Матрица g:\n",
      " [[1 0 3]\n",
      " [0 5 0]\n",
      " [7 0 9]]\n",
      "Индексы ненулевых элементов g - np.argwhere(g != 0): [[0 0]\n",
      " [0 2]\n",
      " [1 1]\n",
      " [2 0]\n",
      " [2 2]]\n",
      "Значения ненулевых элементов g - g[np.nonzero(g)]: [1 3 5 7 9]\n",
      "\n",
      "Массив h: [0 0 0 1 0 0 1 0]\n",
      "Все индексы где h == 1 - np.where(h == 1)[0]: [3 6]\n",
      "Первый индекс где h == 1 - np.where(h == 1)[0][0]: 3\n",
      "\n",
      "Массив i: [10 20 30 40 50]\n",
      "Элементы i > 25 - i[i > 25]: [30 40 50]\n",
      "Индексы элементов i > 25 - np.where(i > 25)[0]: [2 3 4]\n",
      "\n",
      "Массив j: [1 0 0 1 1 0 1]\n",
      "Индексы перехода 0→1 - np.where((j[:-1] == 0) & (j[1:] == 1))[0] + 1: [3 6]\n",
      "Индексы перехода 1→0 - np.where((j[:-1] == 1) & (j[1:] == 0))[0] + 1: [1 5]\n",
      "\n",
      "Логический массив k: [False  True False  True  True False]\n",
      "Индексы True в k - np.flatnonzero(k): [1 3 4]\n",
      "Количество True в k - np.count_nonzero(k): 3\n",
      "\n",
      "Матрица l:\n",
      " [[0 1 0]\n",
      " [1 0 1]\n",
      " [0 1 0]]\n",
      "Координаты единиц в l - np.argwhere(l == 1): [[0 1]\n",
      " [1 0]\n",
      " [1 2]\n",
      " [2 1]]\n",
      "Строки с единицами - np.nonzero(l)[0]: [0 1 1 2]\n",
      "Столбцы с единицами - np.nonzero(l)[1]: [1 0 2 1]\n",
      "\n",
      "Массив m: [5 3 8 2 7]\n",
      "Индексы отсортированного m - np.argsort(m): [3 1 0 4 2]\n",
      "Отсортированный m - np.sort(m): [2 3 5 7 8]\n",
      "Три наибольших элемента m - m[np.argpartition(m, -3)[-3:]]: [5 8 7]\n",
      "\n",
      "Данные с пиками: [1 3 7 1 2 6 0 1]\n",
      "Индексы пиков в данных - np.where((data > np.roll(data, 1)) & (data > np.roll(data, -1)))[0]: [2 5]\n",
      "Значения пиков - data[peaks]: [7 6]\n"
     ]
    }
   ],
   "source": [
    "# Создадим массивы для примеров\n",
    "a = np.array([1, 0, 2, 0, 3, 0])\n",
    "b = np.array([[1, 0, 0], [0, 2, 0], [0, 0, 3]])\n",
    "c = np.array([True, False, True, False])\n",
    "\n",
    "print(\"Исходный массив a:\", a)\n",
    "print(\"\\nИндексы ненулевых элементов a - np.nonzero(a):\", np.nonzero(a))\n",
    "print(\"Ненулевые элементы a - a[np.nonzero(a)]:\", a[np.nonzero(a)])\n",
    "print(\"Количество ненулевых элементов a - np.count_nonzero(a):\", np.count_nonzero(a))\n",
    "\n",
    "print(\"\\nМассив b:\\n\", b)\n",
    "print(\"Индексы ненулевых элементов b - np.nonzero(b):\", np.nonzero(b))\n",
    "print(\"Форма результата nonzero для 2D - np.array(np.nonzero(b)).T:\\n\", np.array(np.nonzero(b)).T)\n",
    "\n",
    "print(\"\\nЛогический массив c:\", c)\n",
    "print(\"Индексы True элементов c - np.flatnonzero(c):\", np.flatnonzero(c))\n",
    "print(\"Первый индекс True в c - np.argmax(c):\", np.argmax(c))\n",
    "\n",
    "d = np.array([3, 1, 4, 1, 5, 9])\n",
    "print(\"\\nМассив d:\", d)\n",
    "print(\"Индекс максимального элемента d - np.argmax(d):\", np.argmax(d))\n",
    "print(\"Индекс минимального элемента d - np.argmin(d):\", np.argmin(d))\n",
    "print(\"Максимальный элемент d - np.max(d):\", np.max(d))\n",
    "print(\"Минимальный элемент d - np.min(d):\", np.min(d))\n",
    "\n",
    "e = np.array([[1, 5, 3], [9, 2, 7]])\n",
    "print(\"\\nМатрица e:\\n\", e)\n",
    "print(\"Индекс максимума в flattened e - np.argmax(e):\", np.argmax(e))\n",
    "print(\"Индексы максимумов по axis=0 - np.argmax(e, axis=0):\", np.argmax(e, axis=0))\n",
    "print(\"Индексы максимумов по axis=1 - np.argmax(e, axis=1):\", np.argmax(e, axis=1))\n",
    "\n",
    "f = np.array([1, 2, 3, 4, 5])\n",
    "print(\"\\nМассив f:\", f)\n",
    "print(\"Индекс первого элемента >2 - np.argwhere(f > 2)[0, 0]:\", np.argwhere(f > 2)[0, 0])\n",
    "print(\"Все индексы элементов >2 - np.argwhere(f > 2):\", np.argwhere(f > 2))\n",
    "\n",
    "g = np.array([[1, 0, 3], [0, 5, 0], [7, 0, 9]])\n",
    "print(\"\\nМатрица g:\\n\", g)\n",
    "print(\"Индексы ненулевых элементов g - np.argwhere(g != 0):\", np.argwhere(g != 0))\n",
    "print(\"Значения ненулевых элементов g - g[np.nonzero(g)]:\", g[np.nonzero(g)])\n",
    "\n",
    "h = np.array([0, 0, 0, 1, 0, 0, 1, 0])\n",
    "print(\"\\nМассив h:\", h)\n",
    "print(\"Все индексы где h == 1 - np.where(h == 1)[0]:\", np.where(h == 1)[0])\n",
    "print(\"Первый индекс где h == 1 - np.where(h == 1)[0][0]:\", np.where(h == 1)[0][0])\n",
    "\n",
    "i = np.array([10, 20, 30, 40, 50])\n",
    "print(\"\\nМассив i:\", i)\n",
    "print(\"Элементы i > 25 - i[i > 25]:\", i[i > 25])\n",
    "print(\"Индексы элементов i > 25 - np.where(i > 25)[0]:\", np.where(i > 25)[0])\n",
    "\n",
    "j = np.array([1, 0, 0, 1, 1, 0, 1])\n",
    "print(\"\\nМассив j:\", j)\n",
    "print(\"Индексы перехода 0→1 - np.where((j[:-1] == 0) & (j[1:] == 1))[0] + 1:\", np.where((j[:-1] == 0) & (j[1:] == 1))[0] + 1)\n",
    "print(\"Индексы перехода 1→0 - np.where((j[:-1] == 1) & (j[1:] == 0))[0] + 1:\", np.where((j[:-1] == 1) & (j[1:] == 0))[0] + 1)\n",
    "\n",
    "k = np.array([False, True, False, True, True, False])\n",
    "print(\"\\nЛогический массив k:\", k)\n",
    "print(\"Индексы True в k - np.flatnonzero(k):\", np.flatnonzero(k))\n",
    "print(\"Количество True в k - np.count_nonzero(k):\", np.count_nonzero(k))\n",
    "\n",
    "l = np.array([[0, 1, 0], [1, 0, 1], [0, 1, 0]])\n",
    "print(\"\\nМатрица l:\\n\", l)\n",
    "print(\"Координаты единиц в l - np.argwhere(l == 1):\", np.argwhere(l == 1))\n",
    "print(\"Строки с единицами - np.nonzero(l)[0]:\", np.nonzero(l)[0])\n",
    "print(\"Столбцы с единицами - np.nonzero(l)[1]:\", np.nonzero(l)[1])\n",
    "\n",
    "m = np.array([5, 3, 8, 2, 7])\n",
    "print(\"\\nМассив m:\", m)\n",
    "print(\"Индексы отсортированного m - np.argsort(m):\", np.argsort(m))\n",
    "print(\"Отсортированный m - np.sort(m):\", np.sort(m))\n",
    "print(\"Три наибольших элемента m - m[np.argpartition(m, -3)[-3:]]:\", m[np.argpartition(m, -3)[-3:]])\n",
    "\n",
    "# Практический пример - поиск пиков в данных\n",
    "data = np.array([1, 3, 7, 1, 2, 6, 0, 1])\n",
    "print(\"\\nДанные с пиками:\", data)\n",
    "peaks = np.where((data > np.roll(data, 1)) & (data > np.roll(data, -1)))[0]\n",
    "print(\"Индексы пиков в данных - np.where((data > np.roll(data, 1)) & (data > np.roll(data, -1)))[0]:\", peaks)\n",
    "print(\"Значения пиков - data[peaks]:\", data[peaks])"
   ]
  },
  {
   "cell_type": "code",
   "execution_count": 21,
   "id": "f3b8d936-942a-466b-ba2f-131da82f7dc0",
   "metadata": {},
   "outputs": [
    {
     "name": "stdout",
     "output_type": "stream",
     "text": [
      "Скаляр S: 5\n",
      "shape: () | ndim: 0 | dtype: int64 | nbytes: 8\n"
     ]
    }
   ],
   "source": [
    "# массив-скаляр\n",
    "s =  np.array(5)\n",
    "print(\"Скаляр S:\", s)\n",
    "\n",
    "print(\"shape:\", s.shape, \"| ndim:\", s.ndim, \"| dtype:\", s.dtype, \"| nbytes:\", s.nbytes)"
   ]
  },
  {
   "cell_type": "code",
   "execution_count": 29,
   "id": "6280a0d0-c3ef-4d44-b0ff-27f2e652164e",
   "metadata": {},
   "outputs": [
    {
     "name": "stdout",
     "output_type": "stream",
     "text": [
      "Вектор a =  [0. 0. 0. 0. 0. 0. 0. 0. 0. 0.]\n"
     ]
    }
   ],
   "source": [
    "a = np.zeros(10)\n",
    "print(\"Вектор a = \", a)"
   ]
  },
  {
   "cell_type": "code",
   "execution_count": 25,
   "id": "2fd58b26-6ab4-405e-b165-c65bbf227edd",
   "metadata": {},
   "outputs": [
    {
     "name": "stdout",
     "output_type": "stream",
     "text": [
      "shape: (10,) | ndim: 1 | dtype: float64 | nbytes: 80\n"
     ]
    }
   ],
   "source": [
    "print(\"shape:\", a.shape, \"| ndim:\", a.ndim, \"| dtype:\", a.dtype, \"| nbytes:\", a.nbytes)"
   ]
  },
  {
   "cell_type": "code",
   "execution_count": 26,
   "id": "8c40d0a7-3851-40c0-aec3-59c765918371",
   "metadata": {},
   "outputs": [
    {
     "name": "stdout",
     "output_type": "stream",
     "text": [
      "Вектор a= [10 11 12 13 14 15 16 17 18 19 20 21 22 23 24 25 26 27 28 29 30 31 32 33\n",
      " 34 35 36 37 38 39 40 41 42 43 44 45 46 47 48 49]\n"
     ]
    }
   ],
   "source": [
    "a = np.arange(10,50) # вектор от 10 до 49\n",
    "print(\"Вектор a=\", a)"
   ]
  },
  {
   "cell_type": "code",
   "execution_count": 28,
   "id": "3b769d88-c2a2-4d0f-bea8-1b69e5e0b5be",
   "metadata": {},
   "outputs": [
    {
     "name": "stdout",
     "output_type": "stream",
     "text": [
      "shape: (40,) | ndim: 1 | dtype: int64 | nbytes: 320 | size: 40\n"
     ]
    }
   ],
   "source": [
    "print(\"shape:\", a.shape, \"| ndim:\", a.ndim, \"| dtype:\", a.dtype, \"| nbytes:\", a.nbytes, \"| size:\", a.size)"
   ]
  },
  {
   "cell_type": "code",
   "execution_count": 35,
   "id": "ebbbb120-34be-4579-b0c0-31b89dfbc82b",
   "metadata": {},
   "outputs": [
    {
     "name": "stdout",
     "output_type": "stream",
     "text": [
      "Матрица (3х3)=\n",
      " [[0 1 2]\n",
      " [3 4 5]\n",
      " [6 7 8]]\n"
     ]
    }
   ],
   "source": [
    "A = np.arange(9).reshape(3,3)\n",
    "print(\"Матрица (3х3)=\\n\", A)"
   ]
  },
  {
   "cell_type": "code",
   "execution_count": 33,
   "id": "1ed3f014-f484-4310-93a2-86e2f30b9d34",
   "metadata": {},
   "outputs": [
    {
     "name": "stdout",
     "output_type": "stream",
     "text": [
      "shape: (3, 3) | ndim: 2 | dtype: int64 | nbytes: 72 | size: 9\n"
     ]
    }
   ],
   "source": [
    "print(\"shape:\", A.shape, \"| ndim:\", A.ndim, \"| dtype:\", A.dtype, \"| nbytes:\", A.nbytes, \"| size:\", A.size)"
   ]
  },
  {
   "cell_type": "code",
   "execution_count": 36,
   "id": "a6a9ebd4-97e1-4b16-a10f-227dffa9ae5e",
   "metadata": {},
   "outputs": [
    {
     "name": "stdout",
     "output_type": "stream",
     "text": [
      "Индексы ненулевых элементов: (array([0, 1, 4]),)\n"
     ]
    }
   ],
   "source": [
    "a = np.array([1, 2, 0, 0, 4, 0])\n",
    "idx = np.nonzero(a)\n",
    "print(\"Индексы ненулевых элементов:\", idx)"
   ]
  },
  {
   "cell_type": "code",
   "execution_count": 39,
   "id": "ae6faf11-01dd-41a9-8d34-b0f8825db61e",
   "metadata": {},
   "outputs": [
    {
     "name": "stdout",
     "output_type": "stream",
     "text": [
      "Массив (3х3х3): [[[0.18485446 0.96958463 0.77513282]\n",
      "  [0.93949894 0.89482735 0.59789998]\n",
      "  [0.92187424 0.0884925  0.19598286]]\n",
      "\n",
      " [[0.04522729 0.32533033 0.38867729]\n",
      "  [0.27134903 0.82873751 0.35675333]\n",
      "  [0.28093451 0.54269608 0.14092422]]\n",
      "\n",
      " [[0.80219698 0.07455064 0.98688694]\n",
      "  [0.77224477 0.19871568 0.00552212]\n",
      "  [0.81546143 0.70685734 0.72900717]]]\n"
     ]
    }
   ],
   "source": [
    "a = np.random.rand( 3, 3, 3)\n",
    "print(\"Массив (3х3х3):\", a)"
   ]
  },
  {
   "cell_type": "code",
   "execution_count": 40,
   "id": "8f355f63-ba00-47aa-b309-86e7186fcb5e",
   "metadata": {},
   "outputs": [
    {
     "name": "stdout",
     "output_type": "stream",
     "text": [
      "shape: (3, 3, 3) | ndim: 3 | dtype: float64 | nbytes: 216 | size: 27\n"
     ]
    }
   ],
   "source": [
    "print(\"shape:\", a.shape, \"| ndim:\", a.ndim, \"| dtype:\", a.dtype, \"| nbytes:\", a.nbytes, \"| size:\", a.size)"
   ]
  },
  {
   "cell_type": "code",
   "execution_count": 41,
   "id": "ffe3d376-9b09-486a-8dcc-5557dda35e9f",
   "metadata": {},
   "outputs": [
    {
     "name": "stdout",
     "output_type": "stream",
     "text": [
      "Массив (10х10): [[0.77127035 0.07404465 0.35846573 0.11586906 0.86310343 0.62329813\n",
      "  0.33089802 0.06355835 0.31098232 0.32518332]\n",
      " [0.72960618 0.63755747 0.88721274 0.47221493 0.11959425 0.71324479\n",
      "  0.76078505 0.5612772  0.77096718 0.4937956 ]\n",
      " [0.52273283 0.42754102 0.02541913 0.10789143 0.03142919 0.63641041\n",
      "  0.31435598 0.50857069 0.90756647 0.24929223]\n",
      " [0.41038292 0.75555114 0.22879817 0.07697991 0.28975145 0.16122129\n",
      "  0.92969765 0.80812038 0.63340376 0.87146059]\n",
      " [0.80367208 0.18657006 0.892559   0.53934224 0.80744016 0.8960913\n",
      "  0.31800347 0.11005192 0.22793516 0.42710779]\n",
      " [0.81801477 0.86073058 0.00695213 0.5107473  0.417411   0.22210781\n",
      "  0.11986537 0.33761517 0.9429097  0.32320293]\n",
      " [0.51879062 0.70301896 0.3636296  0.97178208 0.96244729 0.2517823\n",
      "  0.49724851 0.30087831 0.28484049 0.03688695]\n",
      " [0.60956433 0.50267902 0.05147875 0.27864646 0.90826589 0.23956189\n",
      "  0.14489487 0.48945276 0.98565045 0.24205527]\n",
      " [0.67213555 0.76161962 0.23763754 0.72821635 0.36778313 0.63230583\n",
      "  0.63352971 0.53577468 0.09028977 0.8353025 ]\n",
      " [0.32078006 0.18651851 0.04077514 0.59089294 0.67756436 0.01658783\n",
      "  0.51209306 0.22649578 0.64517279 0.17436643]]\n",
      "shape: (10, 10) | ndim: 2 | dtype: float64 | nbytes: 800 | size: 100\n"
     ]
    }
   ],
   "source": [
    "a = np.random.rand( 10, 10)\n",
    "print(\"Массив (10х10):\", a)\n",
    "print(\"shape:\", a.shape, \"| ndim:\", a.ndim, \"| dtype:\", a.dtype, \"| nbytes:\", a.nbytes, \"| size:\", a.size)"
   ]
  },
  {
   "cell_type": "code",
   "execution_count": 42,
   "id": "c61cd540-dcd8-4a5c-a162-6c165e337114",
   "metadata": {},
   "outputs": [
    {
     "name": "stdout",
     "output_type": "stream",
     "text": [
      "Минимальное значение: 0.006952130531190703\n"
     ]
    }
   ],
   "source": [
    "print(\"Минимальное значение:\", np.min(a))"
   ]
  },
  {
   "cell_type": "code",
   "execution_count": 43,
   "id": "3358892d-d814-4695-ba2b-ce5749217085",
   "metadata": {},
   "outputs": [
    {
     "name": "stdout",
     "output_type": "stream",
     "text": [
      "Максимальное значение: 0.9856504541106007\n"
     ]
    }
   ],
   "source": [
    "print(\"Максимальное значение:\", np.max(a))"
   ]
  },
  {
   "cell_type": "code",
   "execution_count": 54,
   "id": "4075c674-ed1a-4900-a647-a5caa5d90b85",
   "metadata": {},
   "outputs": [
    {
     "name": "stdout",
     "output_type": "stream",
     "text": [
      "Вектор а: [0.72609133 0.97585208 0.51630035 0.32295647 0.79518619 0.27083225\n",
      " 0.43897142 0.07845638 0.02535074 0.96264841 0.83598012 0.69597421\n",
      " 0.40895294 0.17329432 0.15643704 0.2502429  0.54922666 0.71459592\n",
      " 0.66019738 0.2799339  0.95486528 0.73789692 0.55435405 0.61172075\n",
      " 0.41960006 0.24773099 0.35597268 0.75784611 0.01439349 0.11607264]\n"
     ]
    }
   ],
   "source": [
    "a = np.random.rand(30)\n",
    "print(\"Вектор а:\", a)"
   ]
  },
  {
   "cell_type": "code",
   "execution_count": 55,
   "id": "23b6c4e4-09af-44ff-a6e2-a7895ced7944",
   "metadata": {},
   "outputs": [
    {
     "name": "stdout",
     "output_type": "stream",
     "text": [
      "Среднее значение: 0.48693113332940735\n"
     ]
    }
   ],
   "source": [
    "mean = np.mean(a)\n",
    "print(\"Среднее значение:\", mean)"
   ]
  },
  {
   "cell_type": "code",
   "execution_count": 62,
   "id": "00d46cf7-818c-4633-ac56-0391f6bced72",
   "metadata": {},
   "outputs": [
    {
     "name": "stdout",
     "output_type": "stream",
     "text": [
      "[[1. 1. 1. 1. 1.]\n",
      " [1. 1. 1. 1. 1.]\n",
      " [1. 1. 1. 1. 1.]\n",
      " [1. 1. 1. 1. 1.]\n",
      " [1. 1. 1. 1. 1.]]\n"
     ]
    }
   ],
   "source": [
    "a = np.ones((5,5))\n",
    "print(a)"
   ]
  },
  {
   "cell_type": "code",
   "execution_count": 63,
   "id": "75cad05e-0cd4-4cc5-8790-40b4327bf555",
   "metadata": {},
   "outputs": [
    {
     "name": "stdout",
     "output_type": "stream",
     "text": [
      "Массив 5х5 с единицами по границе и нулями внутри:\n",
      " [[1. 1. 1. 1. 1.]\n",
      " [1. 0. 0. 0. 1.]\n",
      " [1. 0. 0. 0. 1.]\n",
      " [1. 0. 0. 0. 1.]\n",
      " [1. 1. 1. 1. 1.]]\n"
     ]
    }
   ],
   "source": [
    "a[1:-1, 1:-1] = 0\n",
    "print(\"Массив 5х5 с единицами по границе и нулями внутри:\\n\", a)"
   ]
  },
  {
   "cell_type": "code",
   "execution_count": 72,
   "id": "be1dff35-c173-4ed9-9d54-9354345ace90",
   "metadata": {},
   "outputs": [
    {
     "name": "stdout",
     "output_type": "stream",
     "text": [
      "Индекс 100-го элемента: (np.int64(1), np.int64(5), np.int64(3))\n",
      "Индекс 100-го элемента: (1, 5, 3)\n",
      "Индекс 100-го элемента: (1, 5, 3)\n",
      "Индекс 100-го элемента: (1, 5, 3)\n",
      "Индекс 100-го элемента: (1, 5, 3)\n",
      "Индекс 100-го элемента: (1, 5, 3)\n"
     ]
    }
   ],
   "source": [
    "idx = np.unravel_index(99, (6, 7, 8))\n",
    "print(\"Индекс 100-го элемента:\", idx)                                             # Стандартный вывод\n",
    "print(\"Индекс 100-го элемента:\", tuple(int(i) for i in idx))                      # Преобразование в tuple с int\n",
    "print(\"Индекс 100-го элемента:\", tuple(map(int, idx)))                            # Использование map\n",
    "i, j, k = map(int, idx)                                                          \n",
    "print(\"Индекс 100-го элемента:\", (i, j, k))                                       # Распаковка с преобразованием\n",
    "print(\"Индекс 100-го элемента: (%d, %d, %d)\" % idx)                               # Форматирование строки\n",
    "print(f\"Индекс 100-го элемента: ({int(idx[0])}, {int(idx[1])}, {int(idx[2])})\")   # f-strings с явным преобразованием"
   ]
  },
  {
   "cell_type": "code",
   "execution_count": 75,
   "id": "576a9943-d41f-4261-933b-41175a0e19a1",
   "metadata": {},
   "outputs": [
    {
     "data": {
      "text/plain": [
       "array([[[1., 1., 1., 1., 1., 1., 1., 1.],\n",
       "        [1., 1., 1., 1., 1., 1., 1., 1.],\n",
       "        [1., 1., 1., 1., 1., 1., 1., 1.],\n",
       "        [1., 1., 1., 1., 1., 1., 1., 1.],\n",
       "        [1., 1., 1., 1., 1., 1., 1., 1.],\n",
       "        [1., 1., 1., 1., 1., 1., 1., 1.],\n",
       "        [1., 1., 1., 1., 1., 1., 1., 1.]],\n",
       "\n",
       "       [[1., 1., 1., 1., 1., 1., 1., 1.],\n",
       "        [1., 0., 0., 0., 0., 0., 0., 1.],\n",
       "        [1., 0., 0., 0., 0., 0., 0., 1.],\n",
       "        [1., 0., 0., 0., 0., 0., 0., 1.],\n",
       "        [1., 0., 0., 0., 0., 0., 0., 1.],\n",
       "        [1., 0., 0., 0., 0., 0., 0., 1.],\n",
       "        [1., 1., 1., 1., 1., 1., 1., 1.]],\n",
       "\n",
       "       [[1., 1., 1., 1., 1., 1., 1., 1.],\n",
       "        [1., 0., 0., 0., 0., 0., 0., 1.],\n",
       "        [1., 0., 0., 0., 0., 0., 0., 1.],\n",
       "        [1., 0., 0., 0., 0., 0., 0., 1.],\n",
       "        [1., 0., 0., 0., 0., 0., 0., 1.],\n",
       "        [1., 0., 0., 0., 0., 0., 0., 1.],\n",
       "        [1., 1., 1., 1., 1., 1., 1., 1.]],\n",
       "\n",
       "       [[1., 1., 1., 1., 1., 1., 1., 1.],\n",
       "        [1., 0., 0., 0., 0., 0., 0., 1.],\n",
       "        [1., 0., 0., 0., 0., 0., 0., 1.],\n",
       "        [1., 0., 0., 0., 0., 0., 0., 1.],\n",
       "        [1., 0., 0., 0., 0., 0., 0., 1.],\n",
       "        [1., 0., 0., 0., 0., 0., 0., 1.],\n",
       "        [1., 1., 1., 1., 1., 1., 1., 1.]],\n",
       "\n",
       "       [[1., 1., 1., 1., 1., 1., 1., 1.],\n",
       "        [1., 0., 0., 0., 0., 0., 0., 1.],\n",
       "        [1., 0., 0., 0., 0., 0., 0., 1.],\n",
       "        [1., 0., 0., 0., 0., 0., 0., 1.],\n",
       "        [1., 0., 0., 0., 0., 0., 0., 1.],\n",
       "        [1., 0., 0., 0., 0., 0., 0., 1.],\n",
       "        [1., 1., 1., 1., 1., 1., 1., 1.]],\n",
       "\n",
       "       [[1., 1., 1., 1., 1., 1., 1., 1.],\n",
       "        [1., 1., 1., 1., 1., 1., 1., 1.],\n",
       "        [1., 1., 1., 1., 1., 1., 1., 1.],\n",
       "        [1., 1., 1., 1., 1., 1., 1., 1.],\n",
       "        [1., 1., 1., 1., 1., 1., 1., 1.],\n",
       "        [1., 1., 1., 1., 1., 1., 1., 1.],\n",
       "        [1., 1., 1., 1., 1., 1., 1., 1.]]])"
      ]
     },
     "execution_count": 75,
     "metadata": {},
     "output_type": "execute_result"
    }
   ],
   "source": [
    "a = np.ones((6, 7, 8))\n",
    "a[1:-1, 1:-1, 1:-1] = 0\n",
    "a"
   ]
  },
  {
   "cell_type": "code",
   "execution_count": 81,
   "id": "5f44c66f-9c46-4a9c-8862-fc2b81c22b9e",
   "metadata": {},
   "outputs": [
    {
     "name": "stdout",
     "output_type": "stream",
     "text": [
      "A\n",
      " [[0.08134878 0.08483771 0.98663958]\n",
      " [0.3742708  0.37064215 0.81279957]\n",
      " [0.94724858 0.98600106 0.75337819]\n",
      " [0.37625959 0.08350072 0.77714692]\n",
      " [0.55840425 0.42422201 0.90635439]] \n",
      "B\n",
      " [[0.11119748 0.4926251 ]\n",
      " [0.01135364 0.46866064]\n",
      " [0.05630328 0.11881792]]\n",
      "\n",
      "A x B - np.dot(A, B):\n",
      " [[0.06556004 0.19706501]\n",
      " [0.09158939 0.45465573]\n",
      " [0.15894402 1.01825315]\n",
      " [0.08654307 0.31682739]\n",
      " [0.11794033 0.58159125]]\n"
     ]
    }
   ],
   "source": [
    "# Матрица A 5х3\n",
    "A = np.random.rand(5, 3)\n",
    "\n",
    "# Матрица B 3х2\n",
    "B = np.random.rand(3, 2)\n",
    "print(\"A\\n\",A,\"\\nB\\n\",B)\n",
    "\n",
    "# Произведение матриц A x B\n",
    "print(\"\\nA x B - np.dot(A, B):\\n\", np.dot(A, B))"
   ]
  },
  {
   "cell_type": "code",
   "execution_count": null,
   "id": "d93228e5-87f0-4e04-9dd2-641e6c4b4376",
   "metadata": {},
   "outputs": [],
   "source": []
  },
  {
   "cell_type": "code",
   "execution_count": null,
   "id": "2ab8d08e-089e-407f-96d0-36ddea1b355f",
   "metadata": {},
   "outputs": [],
   "source": []
  },
  {
   "cell_type": "code",
   "execution_count": null,
   "id": "5d56ec4a-fb0e-4c0d-87dd-ec26302a621f",
   "metadata": {},
   "outputs": [],
   "source": []
  }
 ],
 "metadata": {
  "kernelspec": {
   "display_name": "Python 3 (ipykernel)",
   "language": "python",
   "name": "python3"
  },
  "language_info": {
   "codemirror_mode": {
    "name": "ipython",
    "version": 3
   },
   "file_extension": ".py",
   "mimetype": "text/x-python",
   "name": "python",
   "nbconvert_exporter": "python",
   "pygments_lexer": "ipython3",
   "version": "3.13.5"
  }
 },
 "nbformat": 4,
 "nbformat_minor": 5
}
