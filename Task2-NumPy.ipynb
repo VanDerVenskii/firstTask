{
 "cells": [
  {
   "cell_type": "markdown",
   "id": "11e44048-f995-40ba-8fb9-119b89baf518",
   "metadata": {},
   "source": [
    "### Создание массивов и базовые свойства"
   ]
  },
  {
   "cell_type": "code",
   "execution_count": 1,
   "id": "cfcfec5f-2530-4d93-bcba-17b3986210c2",
   "metadata": {},
   "outputs": [
    {
     "name": "stdout",
     "output_type": "stream",
     "text": [
      "x = [1 2 3] | dtype: int32\n"
     ]
    }
   ],
   "source": [
    "import numpy as np\n",
    "\n",
    "# Создание из списка + явный тип\n",
    "x = np.array([1, 2, 3], dtype=np.int32)\n",
    "print(\"x =\", x, \"| dtype:\", x.dtype)"
   ]
  },
  {
   "cell_type": "code",
   "execution_count": 2,
   "id": "57704cc9-2c6c-4ee0-9185-88a0b4d0c91d",
   "metadata": {},
   "outputs": [
    {
     "name": "stdout",
     "output_type": "stream",
     "text": [
      "A = [ 0  1  2  3  4  5  6  7  8  9 10 11 12 13 14 15 16 17 18 19 20]\n",
      "B = [0.   0.05 0.1  0.15 0.2  0.25 0.3  0.35 0.4  0.45 0.5  0.55 0.6  0.65\n",
      " 0.7  0.75 0.8  0.85 0.9  0.95 1.  ]\n"
     ]
    }
   ],
   "source": [
    "# Последовательности чисел\n",
    "A = np.arange(21)                   # 0,1,2,..,19,20\n",
    "print(\"A =\", A)\n",
    "\n",
    "B = np.linspace(0.0, 1.0, 21)      # 21 точка от 0 до 1 включительно\n",
    "print(\"B =\", B)"
   ]
  },
  {
   "cell_type": "code",
   "execution_count": 3,
   "id": "9c4c5a13-7789-410f-822f-48d5355da335",
   "metadata": {},
   "outputs": [
    {
     "name": "stdout",
     "output_type": "stream",
     "text": [
      "Z:\n",
      " [[0. 0. 0.]\n",
      " [0. 0. 0.]]\n",
      "O:\n",
      " [[1. 1. 1.]\n",
      " [1. 1. 1.]]\n",
      "F:\n",
      " [[7 7 7]\n",
      " [7 7 7]]\n",
      "I:\n",
      " [[1. 0. 0.]\n",
      " [0. 1. 0.]\n",
      " [0. 0. 1.]]\n"
     ]
    }
   ],
   "source": [
    "# Матрицы-заготовки\n",
    "Z = np.zeros((2, 3))               # все нули\n",
    "O = np.ones((2, 3))                # все единицы\n",
    "F = np.full((2, 3), 7)             # все семерки\n",
    "I = np.eye(3)                      # единичная матрица 3х3\n",
    "print(\"Z:\\n\", Z)\n",
    "print(\"O:\\n\", O)\n",
    "print(\"F:\\n\", F)\n",
    "print(\"I:\\n\", I)"
   ]
  },
  {
   "cell_type": "code",
   "execution_count": 4,
   "id": "730dc87a-f555-4e95-9e5a-32b0fe289be8",
   "metadata": {},
   "outputs": [
    {
     "name": "stdout",
     "output_type": "stream",
     "text": [
      "M:\n",
      " [[ 1  2  3  4]\n",
      " [ 5  6  7  8]\n",
      " [ 9 10 11 12]]\n",
      "shape: (3, 4) | ndim: 2 | size: 12 | dtype: int64\n",
      "M:\n",
      " [[ 1  2  3]\n",
      " [ 4  5  6]\n",
      " [ 7  8  9]\n",
      " [10 11 12]]\n",
      "shape: (4, 3) | ndim: 2 | size: 12 | dtype: int32\n"
     ]
    }
   ],
   "source": [
    "# Базовые свойства формы и размера\n",
    "M = np.arange(1, 13).reshape(3, 4)   # меняем форму без копии данных\n",
    "print(\"M:\\n\", M)\n",
    "print(\"shape:\", M.shape, \"| ndim:\", M.ndim, \"| size:\", M.size, \"| dtype:\", M.dtype)\n",
    "M = np.array(M, dtype=np.int32)\n",
    "M = M.reshape(4, 3)\n",
    "print(\"M:\\n\", M)\n",
    "print(\"shape:\", M.shape, \"| ndim:\", M.ndim, \"| size:\", M.size, \"| dtype:\", M.dtype)"
   ]
  },
  {
   "cell_type": "code",
   "execution_count": 8,
   "id": "5522d400-d310-4f3e-aa59-ed487ee19da6",
   "metadata": {},
   "outputs": [
    {
     "name": "stdout",
     "output_type": "stream",
     "text": [
      "M32 dtype: float32\n",
      "[[ 1  2  3  4  5  6]\n",
      " [ 7  8  9 10 11 12]]\n"
     ]
    }
   ],
   "source": [
    "# Преобразование типа (создаёт копию)\n",
    "M32 = M.astype(np.float32)\n",
    "print(\"M32 dtype:\", M32.dtype)\n",
    "print(M.reshape(2, -1))"
   ]
  },
  {
   "cell_type": "code",
   "execution_count": 10,
   "id": "90d89fe5-155b-4e22-9e65-8a552cd5cf60",
   "metadata": {},
   "outputs": [
    {
     "name": "stdout",
     "output_type": "stream",
     "text": [
      "R:\n",
      " [[0 1 2 3]\n",
      " [4 5 6 7]] shape: (2, 4)\n"
     ]
    }
   ],
   "source": [
    "# Автоматический размер в reshape  через -1 (подбирается NumPy)\n",
    "R = np.arange(8).reshape(2, -1)  # -1 => автоматически перераспределяется в 4 столбца\n",
    "print(\"R:\\n\", R, \"shape:\", R.shape)"
   ]
  },
  {
   "cell_type": "markdown",
   "id": "14fcd673-c4ce-44e1-92b0-604481339de4",
   "metadata": {},
   "source": [
    "\n",
    "\n",
    "### Индексация и срезы массивов"
   ]
  },
  {
   "cell_type": "code",
   "execution_count": 17,
   "id": "c1e4e65e-5419-4ab3-9b3a-ac71786f8a2f",
   "metadata": {},
   "outputs": [
    {
     "name": "stdout",
     "output_type": "stream",
     "text": [
      "A:\n",
      " [[ 1  2  3  4]\n",
      " [ 5  6  7  8]\n",
      " [ 9 10 11 12]]\n",
      "A[1, 2] = 7\n",
      "A[0, :] = [1 2 3 4]\n",
      "A[:, 1] = [ 2  6 10]\n",
      "S:\n",
      " [[2 3]\n",
      " [6 7]]\n",
      "После изменений S:\n",
      " [[ 1 -1  3  4]\n",
      " [ 5  6  7  8]\n",
      " [ 9 10 11 12]]\n"
     ]
    }
   ],
   "source": [
    "A = np.arange(1, 13).reshape(3, 4)   # меняем форму без копии данных\n",
    "print(\"A:\\n\", A)\n",
    "\n",
    "# Доступ к элементу по индексу (строка, столбец)\n",
    "print(\"A[1, 2] =\", A[1, 2])          #элемент во 2-ой строке и 3-ем столбце\n",
    "\n",
    "# Срезы (slice) по строкам и столбцам\n",
    "print(\"A[0, :] =\", A[0, :])          # вся первая строка\n",
    "print(\"A[:, 1] =\", A[:, 1])          # весь второй столбец\n",
    "\n",
    "# Подмассив срезом\n",
    "S = A[0:2, 1:3]\n",
    "print(\"S:\\n\", S)\n",
    "\n",
    "# Изменение через срез отражается в исходном массиве\n",
    "S[0, 0] = -1\n",
    "print(\"После изменений S:\\n\", A)"
   ]
  },
  {
   "cell_type": "markdown",
   "id": "28747b9e-c8ef-4836-865a-f7331a9b6034",
   "metadata": {},
   "source": [
    "\n",
    "\n",
    "### Булева индексация (фильтрация данных)"
   ]
  },
  {
   "cell_type": "code",
   "execution_count": 21,
   "id": "75f7dbae-098c-4dd1-9bc9-ed8db1979ec0",
   "metadata": {},
   "outputs": [
    {
     "name": "stdout",
     "output_type": "stream",
     "text": [
      "A:\n",
      " [[ 0  1  2  3]\n",
      " [ 4  5  6  7]\n",
      " [ 8  9 10 11]] \n",
      "\n",
      "Маска:\n",
      " [[ True False  True False]\n",
      " [ True False  True False]\n",
      " [ True False  True False]] \n",
      "\n",
      "Чётные элементы:\n",
      " [ 0  2  4  6  8 10] \n",
      "\n",
      "Маска (A > 3) & (A < 10):\n",
      " [[False False False False]\n",
      " [ True  True  True  True]\n",
      " [ True  True False False]] \n",
      "\n",
      "Элементы от 4 до 9: [4 5 6 7 8 9]\n"
     ]
    }
   ],
   "source": [
    "A = np.arange(12).reshape(3, 4)\n",
    "print(\"A:\\n\", A, \"\\n\")\n",
    "\n",
    "# Булева маска: True для чётных элементов\n",
    "mask = (A % 2 == 0)\n",
    "print(\"Маска:\\n\", mask, \"\\n\")\n",
    "\n",
    "# Применение маски\n",
    "E = A[mask]\n",
    "print(\"Чётные элементы:\\n\", E, \"\\n\")\n",
    "\n",
    "# Булева маска для диапазона значений\n",
    "mask2 = (A > 3) & (A < 10)\n",
    "print(\"Маска (A > 3) & (A < 10):\\n\", mask2, \"\\n\")\n",
    "\n",
    "F = A[mask2]\n",
    "print(\"Элементы от 4 до 9:\", F)"
   ]
  },
  {
   "cell_type": "markdown",
   "id": "8b729199-0321-4d68-8a08-b745d54363b9",
   "metadata": {},
   "source": [
    "\n",
    "\n",
    "### Продвинутая индексация (fance indexing)"
   ]
  },
  {
   "cell_type": "code",
   "execution_count": 22,
   "id": "b0b95ec6-b56b-4c9e-b190-055513f4898c",
   "metadata": {},
   "outputs": [
    {
     "name": "stdout",
     "output_type": "stream",
     "text": [
      "A:\n",
      " [[ 0  1  2  3]\n",
      " [ 4  5  6  7]\n",
      " [ 8  9 10 11]] \n",
      "\n",
      "Строки 0 и 2:\n",
      " [[ 0  1  2  3]\n",
      " [ 8  9 10 11]] \n",
      "\n"
     ]
    }
   ],
   "source": [
    "A = np.arange(12).reshape(3, 4)\n",
    "print(\"A:\\n\", A, \"\\n\")\n",
    "\n",
    "# Выбор целых строк\n",
    "rows = [0, 2]\n",
    "R = A[rows]\n",
    "print(\"Строки 0 и 2:\\n\", R, \"\\n\")"
   ]
  },
  {
   "cell_type": "code",
   "execution_count": null,
   "id": "fa7cb0f6-e7cb-4f4a-86cc-e9ddd5938e5d",
   "metadata": {},
   "outputs": [],
   "source": []
  }
 ],
 "metadata": {
  "kernelspec": {
   "display_name": "Python 3 (ipykernel)",
   "language": "python",
   "name": "python3"
  },
  "language_info": {
   "codemirror_mode": {
    "name": "ipython",
    "version": 3
   },
   "file_extension": ".py",
   "mimetype": "text/x-python",
   "name": "python",
   "nbconvert_exporter": "python",
   "pygments_lexer": "ipython3",
   "version": "3.13.5"
  }
 },
 "nbformat": 4,
 "nbformat_minor": 5
}
