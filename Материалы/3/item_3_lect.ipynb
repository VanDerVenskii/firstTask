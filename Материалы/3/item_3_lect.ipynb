{
 "cells": [
  {
   "cell_type": "code",
   "execution_count": 15,
   "id": "4b41b1ee-deda-4794-8d3d-0a469fba62f9",
   "metadata": {},
   "outputs": [],
   "source": [
    "import numpy as np"
   ]
  },
  {
   "cell_type": "code",
   "execution_count": 16,
   "id": "32042d17-8e93-444a-97de-37452e0b593d",
   "metadata": {},
   "outputs": [
    {
     "name": "stdout",
     "output_type": "stream",
     "text": [
      "\n",
      "совпадает ли результат: True\n",
      "x.shape: (7,) | y_vec.shape: (7,)\n",
      "\n",
      "\n",
      "F:\n",
      " [[32. 50. 68.]\n",
      " [41. 59. 77.]]\n",
      "\n",
      "C.shape: (2, 3) | F.shape: (2, 3)\n"
     ]
    }
   ],
   "source": [
    "# Поэлементная формула без цикла\n",
    "x = np.arange(-3, 4)           # [-3, -2, ..., 3], shape (7,)\n",
    "y_loop = [2*t + 1 for t in x]  # циклом\n",
    "y_vec  = 2*x + 1               # векторно, за раз\n",
    "\n",
    "print(\"\\nсовпадает ли результат:\", np.array_equal(y_vec, np.array(y_loop)))\n",
    "print(\"x.shape:\", x.shape, \"| y_vec.shape:\", y_vec.shape)\n",
    "\n",
    "# Преобразование всей матрицы (C->F) одной формулой\n",
    "C = np.array([[0, 10, 20],\n",
    "              [5, 15, 25]])    # градусы Цельсия, shape (2, 3)\n",
    "F = C * 9/5 + 32               # поэлементно: (C · 9/5) + 32\n",
    "\n",
    "print(\"\\n\\nF:\\n\", F)\n",
    "print(\"\\nC.shape:\", C.shape, \"| F.shape:\", F.shape)\n"
   ]
  },
  {
   "cell_type": "code",
   "execution_count": 17,
   "id": "9352e657-994c-427b-ae89-4cf422d9d94d",
   "metadata": {},
   "outputs": [
    {
     "name": "stdout",
     "output_type": "stream",
     "text": [
      "\n",
      "\n",
      "S.shape: (3, 4)\n",
      "S (пример 2×3 блока):\n",
      " [[11 21 31]\n",
      " [12 22 32]]\n"
     ]
    }
   ],
   "source": [
    "# все попарные суммы двух векторов (broadcasting)\n",
    "a = np.array([1, 2, 3])        # shape (3,)\n",
    "b = np.array([10, 20, 30, 40]) # shape (4,)\n",
    "S = a[:, None] + b             # (3,1) + (4,) -> (3,4)\n",
    "\n",
    "print(\"\\n\\nS.shape:\", S.shape)\n",
    "print(\"S (пример 2×3 блока):\\n\", S[:2, :3])"
   ]
  },
  {
   "cell_type": "code",
   "execution_count": 19,
   "id": "b216a9f9-3364-4e96-90eb-238f640be9ca",
   "metadata": {},
   "outputs": [
    {
     "name": "stdout",
     "output_type": "stream",
     "text": [
      "M:\n",
      " [[ 0  1  2  3]\n",
      " [ 4  5  6  7]\n",
      " [ 8  9 10 11]]\n",
      "M.shape: (3, 4)\n",
      "\n",
      "r.shape: (4,) | R.shape: (3, 4)\n",
      "Первые 2 строки R:\n",
      " [[10 21 32 43]\n",
      " [14 25 36 47]]\n",
      "\n",
      "ожидаемая ошибка без оси: operands could not be broadcast together with shapes (3,4) (3,) \n",
      " c[:, None].shape: (3, 1) | результат: (3, 4)\n",
      "Первые 2 столбца C:\n",
      " [[100 101]\n",
      " [204 205]\n",
      " [308 309]]\n"
     ]
    }
   ],
   "source": [
    "# Исходная матрица 3 строки × 4 столбца\n",
    "M = np.arange(12).reshape(3, 4)\n",
    "print(\"M:\\n\", M)\n",
    "print(\"M.shape:\", M.shape)  # (3, 4)\n",
    "\n",
    "# Добавляем вектор-строку ко всем строкам (совместимо по последней оси)\n",
    "r = np.array([10, 20, 30, 40])      # shape (4,)\n",
    "R = M + r                           # (3,4) + (4,) -> (3,4)\n",
    "print(\"\\nr.shape:\", r.shape, \"| R.shape:\", R.shape)\n",
    "print(\"Первые 2 строки R:\\n\", R[:2])\n",
    "\n",
    "# Добавляем вектор-столбец (нужно добавить ось)\n",
    "c = np.array([100, 200, 300])       # shape (3,)\n",
    "try:\n",
    "    _ = M + c                        # (3,4) + (3,) -> ОШИБКА: 4 != 3 по последней оси\n",
    "except ValueError as e:\n",
    "    print(\"\\nожидаемая ошибка без оси:\", e)\n",
    "\n",
    "C = M + c[:, None]                  # (3,1) + (3,4) -> (3,4)\n",
    "print(\" c[:, None].shape:\", (c[:, None]).shape, \"| результат:\", C.shape)\n",
    "print(\"Первые 2 столбца C:\\n\", C[:, :2])"
   ]
  },
  {
   "cell_type": "code",
   "execution_count": 21,
   "id": "288c61af-df02-4775-a109-26dd128ea450",
   "metadata": {},
   "outputs": [
    {
     "name": "stdout",
     "output_type": "stream",
     "text": [
      "col_centered.shape: (3, 4) | row_centered.shape: (3, 4)\n",
      "col_centered (фрагмент 2×2):\n",
      " [[-4. -4.]\n",
      " [ 0.  0.]]\n",
      "\n",
      "Outer.shape: (3, 4)\n",
      "Outer (фрагмент 2×3):\n",
      " [[10 20 30]\n",
      " [20 40 60]]\n"
     ]
    }
   ],
   "source": [
    "# Центрирование по столбцам vs по строкам (mean + keepdims)\n",
    "col_centered = M - M.mean(axis=0, keepdims=True)  # форма средних (1,4) -> вычитается из каждой строки\n",
    "row_centered = M - M.mean(axis=1, keepdims=True)  # форма средних (3,1) -> вычитается из каждого столбца\n",
    "print(\"col_centered.shape:\", col_centered.shape, \"| row_centered.shape:\", row_centered.shape)\n",
    "print(\"col_centered (фрагмент 2×2):\\n\", np.round(col_centered[:2, :2], 2))\n",
    "\n",
    "# Внешнее (попарное) произведение без двойного цикла\n",
    "a = np.array([1, 2, 3])             # (3,)\n",
    "b = np.array([10, 20, 30, 40])      # (4,)\n",
    "Outer = a[:, None] * b[None, :]     # (3,1) * (1,4) -> (3,4)\n",
    "print(\"\\nOuter.shape:\", Outer.shape)\n",
    "print(\"Outer (фрагмент 2×3):\\n\", Outer[:2, :3])\n"
   ]
  },
  {
   "cell_type": "code",
   "execution_count": 22,
   "id": "aac19a5c-4f04-494c-8f2f-7b44a1e0b2cd",
   "metadata": {},
   "outputs": [
    {
     "name": "stdout",
     "output_type": "stream",
     "text": [
      "x.shape: (12,)\n",
      "A.shape: (3, 4)\n",
      "\n",
      "\n",
      "B.shape (ожидаем 2×6): (2, 6)\n"
     ]
    }
   ],
   "source": [
    "# Исходный вектор из 12 элементов\n",
    "x = np.arange(12)                    # shape (12,)\n",
    "print(\"x.shape:\", x.shape)\n",
    "\n",
    "# reshape к матрице 3×4 (без изменения данных)\n",
    "A = x.reshape(3, 4)                  # shape (3, 4)\n",
    "print(\"A.shape:\", A.shape)\n",
    "\n",
    "# Автовывод размера с -1\n",
    "B = x.reshape(-1, 6)                 # 12 элементов -> (2, 6)\n",
    "print(\"\\n\\nB.shape (ожидаем 2×6):\", B.shape)"
   ]
  },
  {
   "cell_type": "code",
   "execution_count": 23,
   "id": "10946773-63e0-43fe-b369-9adf6ddf2544",
   "metadata": {},
   "outputs": [
    {
     "name": "stdout",
     "output_type": "stream",
     "text": [
      "row.shape: (1, 12) | col.shape: (12, 1)\n",
      "\n",
      "\n",
      "r.shape: (12,) | f.shape: (12,)\n",
      "shares_memory(A, r): True\n",
      "shares_memory(A, f): False\n"
     ]
    }
   ],
   "source": [
    "# Добавление оси: «строка» и «столбец»\n",
    "row = x[None, :]                     # shape (1, 12) — вектор-строка\n",
    "col = x[:, None]                     # shape (12, 1) — вектор-столбец\n",
    "print(\"row.shape:\", row.shape, \"| col.shape:\", col.shape)\n",
    "\n",
    "# Сглаживание: ravel (view) vs flatten (copy)\n",
    "r = A.ravel()                        # по возможности представление (view)\n",
    "f = A.flatten()                      # всегда копия\n",
    "print(\"\\n\\nr.shape:\", r.shape, \"| f.shape:\", f.shape)\n",
    "print(\"shares_memory(A, r):\", np.shares_memory(A, r))  # True -> представление\n",
    "print(\"shares_memory(A, f):\", np.shares_memory(A, f))  # False -> копия\n"
   ]
  },
  {
   "cell_type": "code",
   "execution_count": 25,
   "id": "93b6777c-314d-41f7-b3de-e9065186e12a",
   "metadata": {},
   "outputs": [
    {
     "name": "stdout",
     "output_type": "stream",
     "text": [
      "x: [-3 -1  0  1  2  3] | shape: (6,)\n",
      "\n",
      "mask_pos: [False False False  True  True  True] | dtype: bool | shape: (6,)\n",
      "отобраны положительные: [1 2 3] | count: 3\n",
      "\n",
      "\n",
      "mask_even_pos: [False False False False  True False]\n",
      "\\чётные положительные: [2]\n"
     ]
    }
   ],
   "source": [
    "# Исходный вектор\n",
    "x = np.array([-3, -1, 0, 1, 2, 3])\n",
    "print(\"x:\", x, \"| shape:\", x.shape)\n",
    "\n",
    "# Простая маска и отбор элементов\n",
    "mask_pos = x > 0                       # поэлементно: True там, где x > 0\n",
    "pos = x[mask_pos]                      # чтение по маске -> новый массив\n",
    "print(\"\\nmask_pos:\", mask_pos, \"| dtype:\", mask_pos.dtype, \"| shape:\", mask_pos.shape)\n",
    "print(\"отобраны положительные:\", pos, \"| count:\", np.count_nonzero(mask_pos))\n",
    "\n",
    "# Комбинирование условий: чётные и положительные\n",
    "mask_even_pos = ((x % 2) == 0) & (x > 0)  # скобки обязательны при & и |\n",
    "print(\"\\n\\nmask_even_pos:\", mask_even_pos)\n",
    "print(\"\\чётные положительные:\", x[mask_even_pos])"
   ]
  },
  {
   "cell_type": "code",
   "execution_count": 26,
   "id": "b2012afd-cad4-41c8-b632-9013c16d8fbe",
   "metadata": {},
   "outputs": [
    {
     "name": "stdout",
     "output_type": "stream",
     "text": [
      "\n",
      "M (до):\n",
      " [[-6 -5 -4 -3]\n",
      " [-2 -1  0  1]\n",
      " [ 2  3  4  5]]\n",
      "\n",
      "M (после, отрицательные->0):\n",
      " [[0 0 0 0]\n",
      " [0 0 0 1]\n",
      " [2 3 4 5]]\n",
      "\n",
      "\n",
      " np.where результат: [-1 -1  0  1  4  9] | shape: (6,)\n"
     ]
    }
   ],
   "source": [
    "# Маска на матрице + изменение по месту\n",
    "M = np.arange(-6, 6).reshape(3, 4)     # матрица 3×4: от -6 до 5\n",
    "mask_neg = M < 0\n",
    "print(\"\\nM (до):\\n\", M)\n",
    "M[mask_neg] = 0                        # присваивание по маске меняет исходный M\n",
    "print(\"\\nM (после, отрицательные->0):\\n\", M)\n",
    "\n",
    "# Условное преобразование с np.where (векторный if)\n",
    "# если x >= 0 -> x**2, иначе -> -1\n",
    "y = np.where(x >= 0, x**2, -1)\n",
    "print(\"\\n\\n np.where результат:\", y, \"| shape:\", y.shape)\n"
   ]
  },
  {
   "cell_type": "code",
   "execution_count": null,
   "id": "9501c407-058a-41fb-9555-98b677bebdb5",
   "metadata": {},
   "outputs": [],
   "source": []
  }
 ],
 "metadata": {
  "kernelspec": {
   "display_name": "Python 3 (ipykernel)",
   "language": "python",
   "name": "python3"
  },
  "language_info": {
   "codemirror_mode": {
    "name": "ipython",
    "version": 3
   },
   "file_extension": ".py",
   "mimetype": "text/x-python",
   "name": "python",
   "nbconvert_exporter": "python",
   "pygments_lexer": "ipython3",
   "version": "3.11.6"
  }
 },
 "nbformat": 4,
 "nbformat_minor": 5
}
