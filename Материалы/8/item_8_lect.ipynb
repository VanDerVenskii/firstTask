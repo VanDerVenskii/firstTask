{
 "cells": [
  {
   "cell_type": "code",
   "execution_count": 2,
   "id": "907df9dc-d0fc-4b6a-8ed7-23348b510d2b",
   "metadata": {},
   "outputs": [
    {
     "name": "stdout",
     "output_type": "stream",
     "text": [
      "Timestamp из строки: 2025-03-01 00:00:00 | \n",
      "тип: <class 'pandas._libs.tslibs.timestamps.Timestamp'>\n",
      "\n",
      "\n",
      "Timestamp с временем: 2025-03-01 14:30:45\n",
      "\n",
      "\n",
      "Год: 2025 | Месяц: 3 | День: 1\n",
      "Часы: 14 | Минуты: 30 | Секунды: 45\n",
      "\n",
      "\n",
      "Дата через неделю: 2025-03-08 14:30:45\n"
     ]
    }
   ],
   "source": [
    "import pandas as pd\n",
    "\n",
    "# Создание Timestamp из строки\n",
    "ts1 = pd.Timestamp(\"2025-03-01\")\n",
    "print(\"Timestamp из строки:\", ts1, \"| \\nтип:\", type(ts1))\n",
    "\n",
    "# Создание Timestamp с датой и временем\n",
    "ts2 = pd.Timestamp(\"2025-03-01 14:30:45\")\n",
    "print(\"\\n\\nTimestamp с временем:\", ts2)\n",
    "\n",
    "# Доступ к атрибутам даты/времени\n",
    "print(\"\\n\\nГод:\", ts2.year, \"| Месяц:\", ts2.month, \"| День:\", ts2.day)\n",
    "print(\"Часы:\", ts2.hour, \"| Минуты:\", ts2.minute, \"| Секунды:\", ts2.second)\n",
    "\n",
    "# Арифметика с Timestamp (сдвиг даты на 7 дней)\n",
    "ts3 = ts2 + pd.Timedelta(days=7)\n",
    "print(\"\\n\\nДата через неделю:\", ts3)\n"
   ]
  },
  {
   "cell_type": "code",
   "execution_count": 3,
   "id": "4abf561f-a13e-46a4-b719-5e6de6c3c51f",
   "metadata": {},
   "outputs": [
    {
     "name": "stdout",
     "output_type": "stream",
     "text": [
      "DatetimeIndex:\n",
      " DatetimeIndex(['2025-01-01', '2025-01-02', '2025-01-03'], dtype='datetime64[ns]', freq=None)\n",
      "Тип: <class 'pandas.core.indexes.datetimes.DatetimeIndex'>\n",
      "\n",
      "Series с DatetimeIndex:\n",
      " 2025-01-01    100\n",
      "2025-01-02    200\n",
      "2025-01-03    300\n",
      "dtype: int64\n",
      "\n",
      "Значение за 2025-01-02: 200\n",
      "\n",
      "Диапазон дат (date_range):\n",
      " DatetimeIndex(['2025-03-01', '2025-03-02', '2025-03-03', '2025-03-04',\n",
      "               '2025-03-05'],\n",
      "              dtype='datetime64[ns]', freq='D')\n"
     ]
    }
   ],
   "source": [
    "# Создание DatetimeIndex из списка дат\n",
    "dates = pd.to_datetime([\"2025-01-01\", \"2025-01-02\", \"2025-01-03\"])\n",
    "print(\"DatetimeIndex:\\n\", dates)\n",
    "print(\"Тип:\", type(dates))\n",
    "\n",
    "# Создание Series с временным индексом\n",
    "ts = pd.Series([100, 200, 300], index=dates)\n",
    "print(\"\\nSeries с DatetimeIndex:\\n\", ts)\n",
    "\n",
    "# Доступ по дате (выбор значения по индексу)\n",
    "print(\"\\nЗначение за 2025-01-02:\", ts[\"2025-01-02\"])\n",
    "\n",
    "# Создание диапазона дат с помощью date_range\n",
    "rng = pd.date_range(start=\"2025-03-01\", periods=5, freq=\"D\")\n",
    "print(\"\\nДиапазон дат (date_range):\\n\", rng)\n"
   ]
  },
  {
   "cell_type": "code",
   "execution_count": 4,
   "id": "e597d3fb-c243-4a20-a285-a841163efcfa",
   "metadata": {},
   "outputs": [
    {
     "name": "stdout",
     "output_type": "stream",
     "text": [
      "Period (месяц): 2025-03 | тип: <class 'pandas._libs.tslibs.period.Period'>\n",
      "\n",
      "\n",
      "Period (год): 2025\n",
      "\n",
      "\n",
      "Следующий месяц: 2025-04\n",
      "Предыдущий год: 2024\n",
      "\n",
      "\n",
      "Диапазон периодов (месяцы):\n",
      " PeriodIndex(['2025-01', '2025-02', '2025-03', '2025-04', '2025-05', '2025-06'], dtype='period[M]')\n"
     ]
    }
   ],
   "source": [
    "# Создание объекта Period (месяц)\n",
    "p1 = pd.Period(\"2025-03\", freq=\"M\")\n",
    "print(\"Period (месяц):\", p1, \"| тип:\", type(p1))\n",
    "\n",
    "# Создание объекта Period (год)\n",
    "p2 = pd.Period(\"2025\", freq=\"Y\")\n",
    "print(\"\\n\\nPeriod (год):\", p2)\n",
    "\n",
    "# Арифметика с Period\n",
    "print(\"\\n\\nСледующий месяц:\", p1 + 1)\n",
    "print(\"Предыдущий год:\", p2 - 1)\n",
    "\n",
    "# Генерация диапазона Period (помесячно)\n",
    "period_range = pd.period_range(\"2025-01\", \"2025-06\", freq=\"M\")\n",
    "print(\"\\n\\nДиапазон периодов (месяцы):\\n\", period_range)\n"
   ]
  },
  {
   "cell_type": "code",
   "execution_count": 6,
   "id": "2685b8f0-4346-4924-81e7-59bfbeaad6b0",
   "metadata": {},
   "outputs": [
    {
     "name": "stdout",
     "output_type": "stream",
     "text": [
      "PeriodIndex:\n",
      " PeriodIndex(['2025-01', '2025-02', '2025-03', '2025-04', '2025-05', '2025-06'], dtype='period[M]')\n",
      "\n",
      "\n",
      "Продажи по месяцам:\n",
      " 2025-01    100\n",
      "2025-02    120\n",
      "2025-03     90\n",
      "2025-04    150\n",
      "2025-05    200\n",
      "2025-06    180\n",
      "Freq: M, dtype: int64\n",
      "\n",
      "\n",
      "Среднее значение продаж: 140.0\n",
      "Суммарные продажи: 840\n",
      "Минимальные продажи: 90 | Максимальные продажи: 200\n",
      "\n",
      "\n",
      "Описательная статистика:\n",
      " count      6.000000\n",
      "mean     140.000000\n",
      "std       44.271887\n",
      "min       90.000000\n",
      "25%      105.000000\n",
      "50%      135.000000\n",
      "75%      172.500000\n",
      "max      200.000000\n",
      "dtype: float64\n"
     ]
    }
   ],
   "source": [
    "# Создание PeriodIndex (месячные периоды)\n",
    "periods = pd.period_range(\"2025-01\", \"2025-06\", freq=\"M\")\n",
    "print(\"PeriodIndex:\\n\", periods)\n",
    "\n",
    "# Создание Series с PeriodIndex\n",
    "sales = pd.Series([100, 120, 90, 150, 200, 180], index=periods)\n",
    "print(\"\\n\\nПродажи по месяцам:\\n\", sales)\n",
    "\n",
    "# Основные операции статистики\n",
    "print(\"\\n\\nСреднее значение продаж:\", sales.mean())\n",
    "print(\"Суммарные продажи:\", sales.sum())\n",
    "print(\"Минимальные продажи:\", sales.min(), \"| Максимальные продажи:\", sales.max())\n",
    "\n",
    "# Описательная статистика\n",
    "print(\"\\n\\nОписательная статистика:\\n\", sales.describe())\n"
   ]
  },
  {
   "cell_type": "code",
   "execution_count": null,
   "id": "29d7449f-3c79-48fb-99c7-bfa6566c192d",
   "metadata": {},
   "outputs": [],
   "source": []
  }
 ],
 "metadata": {
  "kernelspec": {
   "display_name": "Python 3 (ipykernel)",
   "language": "python",
   "name": "python3"
  },
  "language_info": {
   "codemirror_mode": {
    "name": "ipython",
    "version": 3
   },
   "file_extension": ".py",
   "mimetype": "text/x-python",
   "name": "python",
   "nbconvert_exporter": "python",
   "pygments_lexer": "ipython3",
   "version": "3.11.6"
  }
 },
 "nbformat": 4,
 "nbformat_minor": 5
}
