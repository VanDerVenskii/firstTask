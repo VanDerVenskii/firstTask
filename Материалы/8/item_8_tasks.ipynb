{
 "cells": [
  {
   "cell_type": "code",
   "execution_count": 5,
   "id": "dd9b9b6c-edcb-4a87-bb72-ae8fed17abd1",
   "metadata": {},
   "outputs": [],
   "source": [
    "# создайте объект Timestamp для даты \"2024-12-31\" и отдельный Timestamp с указанием времени \"2024-12-31 23:45:00\".\n",
    "# Выведите оба объекта и их компоненты: год, месяц, день, час и минуты.\n",
    "\n",
    "\n",
    "# используйте pd.Timestamp(\"ГГГГ-ММ-ДД\") и pd.Timestamp(\"ГГГГ-ММ-ДД ЧЧ:ММ:СС\");\n",
    "#            обращайтесь к атрибутам year, month, day, hour, minute.\n"
   ]
  },
  {
   "cell_type": "code",
   "execution_count": 6,
   "id": "dc284687-7c12-42c4-a25e-be41a3eecb11",
   "metadata": {},
   "outputs": [],
   "source": [
    "# создайте DatetimeIndex из трёх дат [\"2024-05-01\", \"2024-06-01\", \"2024-07-01\"].\n",
    "# Постройте Series с этим индексом и значениями [10, 20, 30].\n",
    "# Обратитесь к значению за \"2024-06-01\" и дополнительно создайте диапазон дат из 7 дней,\n",
    "# начиная с \"2024-08-01\" (шаг = 1 день).\n",
    "\n",
    "\n",
    "# используйте pd.to_datetime([...]), pd.Series(..., index=...),\n",
    "#            доступ к элементу по дате как по ключу, для диапазона — pd.date_range(start=..., periods=..., freq=\"D\").\n"
   ]
  },
  {
   "cell_type": "code",
   "execution_count": 7,
   "id": "f32a6e20-748e-48a5-95f7-52c7e27e52fe",
   "metadata": {},
   "outputs": [],
   "source": [
    "# создайте объект Period для квартала \"2024Q3\" и объект Period для дня \"2024-11-15\".\n",
    "# Выполните арифметические операции: прибавьте 1 квартал и вычтите 5 дней.\n",
    "# Сформируйте диапазон периодов для кварталов 2024 года.\n",
    "\n",
    "\n",
    "# используйте pd.Period(\"...\", freq=\"Q\") для квартала,\n",
    "#            pd.Period(\"...\", freq=\"D\") для дня,\n",
    "#            арифметику + и -,\n",
    "#            для диапазона периодов — pd.period_range(..., freq=\"Q\").\n"
   ]
  },
  {
   "cell_type": "code",
   "execution_count": 8,
   "id": "de73828a-9157-435d-ad33-ad8ee1effb1d",
   "metadata": {},
   "outputs": [],
   "source": [
    "# создайте Series с индексом PeriodIndex для месяцев 2024 года (с января по март).\n",
    "# Пусть значения будут [500, 700, 600]. \n",
    "# Найдите среднее, сумму, минимальное и максимальное значение.\n",
    "# Дополнительно выведите описательную статистику по ряду.\n",
    "\n",
    "\n",
    "# используйте pd.period_range(start=\"2024-01\", end=\"2024-03\", freq=\"M\") для индекса,\n",
    "#            pd.Series(..., index=...),\n",
    "#            методы mean(), sum(), min(), max(), describe().\n"
   ]
  },
  {
   "cell_type": "code",
   "execution_count": null,
   "id": "464d4094-0c40-436c-ae23-7342583cd08d",
   "metadata": {},
   "outputs": [],
   "source": []
  },
  {
   "cell_type": "code",
   "execution_count": null,
   "id": "2e79c25e-5008-4a11-b380-7648720cf070",
   "metadata": {},
   "outputs": [],
   "source": []
  }
 ],
 "metadata": {
  "kernelspec": {
   "display_name": "Python 3 (ipykernel)",
   "language": "python",
   "name": "python3"
  },
  "language_info": {
   "codemirror_mode": {
    "name": "ipython",
    "version": 3
   },
   "file_extension": ".py",
   "mimetype": "text/x-python",
   "name": "python",
   "nbconvert_exporter": "python",
   "pygments_lexer": "ipython3",
   "version": "3.11.6"
  }
 },
 "nbformat": 4,
 "nbformat_minor": 5
}
