{
 "cells": [
  {
   "cell_type": "code",
   "execution_count": null,
   "id": "4525223b-a664-4c61-822d-50d2c2268d0e",
   "metadata": {},
   "outputs": [],
   "source": [
    "\"\"\"\n",
    "docker compose up -d        # запустить Jupyter в фоне\n",
    "docker compose logs -f      # смотреть логи (Ctrl+C выйти)\n",
    "docker compose ps           # состояние контейнера(ов)\n",
    "docker compose exec lab bash# попасть внутрь контейнера\n",
    "docker compose restart      # перезапуск сервиса\n",
    "docker compose down         # остановить и удалить контейнер\n",
    "docker compose pull         # обновить образ\n",
    "\"\"\""
   ]
  },
  {
   "cell_type": "code",
   "execution_count": null,
   "id": "d82a4089-5405-4abb-a415-8de34618ce59",
   "metadata": {},
   "outputs": [],
   "source": [
    "# docker-compose.yml\n",
    "\"\"\"\n",
    "services:\n",
    "  lab:\n",
    "    image: jupyter/scipy-notebook:latest\n",
    "    ports:\n",
    "      - \"8888:8888\"\n",
    "    environment:\n",
    "      - JUPYTER_TOKEN=lab\n",
    "      - NB_UID=1000        # подставьте ваш uid: вывод команды `id -u` на хосте\n",
    "      - NB_GID=1000        # подставьте ваш gid: вывод команды `id -g` на хосте\n",
    "    volumes:\n",
    "      - ./ipynb_files:/home/jovyan/work #  ./ipynb_files - папка на хосте, /home/jovyan/work - папка внутри контейнера\n",
    "       \n",
    "    restart: unless-stopped\n",
    "    \n",
    "\"\"\""
   ]
  },
  {
   "cell_type": "code",
   "execution_count": null,
   "id": "5f56d437-d0f1-4a3e-9828-fb33ffbeab89",
   "metadata": {},
   "outputs": [],
   "source": [
    "# https://github.com/\n",
    "\"\"\"\n",
    "git config --global user.name \"username указанный при регистрации на github\"\n",
    "git config --global user.email \"you@example.com\"\n",
    "\n",
    "git status                                            # Диагностика состояния\n",
    "git add .                                             # Формирование набора изменений\n",
    "git commit -m \"комментарий\"                           # Фиксация изменений\n",
    "git push origin main # любая ветка, не только main    # Отправка локальной истории на GitHub\n",
    "git pull                                              # Получение удалённых изменений\n",
    "\"\"\""
   ]
  },
  {
   "cell_type": "code",
   "execution_count": 9,
   "id": "39006e05-22b6-411a-b9fd-62b43346e89f",
   "metadata": {},
   "outputs": [],
   "source": [
    "# Задание.\n",
    "# установить Anaconda, \n",
    "# создать виртуальное окружение, \n",
    "# запустить первый ноутбук.\n",
    "\n",
    "## В качестве ответа на задание следует отправить ipynb файл, \n",
    "## либо ссылку с ipynb файлом на github."
   ]
  },
  {
   "cell_type": "code",
   "execution_count": null,
   "id": "c2ab21aa-266c-4d5f-8dc2-02a642bd5e1c",
   "metadata": {},
   "outputs": [],
   "source": []
  }
 ],
 "metadata": {
  "kernelspec": {
   "display_name": "Python 3 (ipykernel)",
   "language": "python",
   "name": "python3"
  },
  "language_info": {
   "codemirror_mode": {
    "name": "ipython",
    "version": 3
   },
   "file_extension": ".py",
   "mimetype": "text/x-python",
   "name": "python",
   "nbconvert_exporter": "python",
   "pygments_lexer": "ipython3",
   "version": "3.11.6"
  }
 },
 "nbformat": 4,
 "nbformat_minor": 5
}
