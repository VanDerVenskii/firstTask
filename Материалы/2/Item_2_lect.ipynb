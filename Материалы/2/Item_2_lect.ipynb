{
 "cells": [
  {
   "cell_type": "code",
   "execution_count": 2,
   "id": "9de9127f-93ac-4762-b31f-2ca5a0a4f2bb",
   "metadata": {},
   "outputs": [
    {
     "name": "stdout",
     "output_type": "stream",
     "text": [
      "x = [1 2 3] | dtype: int32\n"
     ]
    }
   ],
   "source": [
    "import numpy as np\n",
    "\n",
    "# Создание из списка + явный тип\n",
    "x = np.array([1, 2, 3], dtype=np.int32)\n",
    "print(\"x =\", x, \"| dtype:\", x.dtype)"
   ]
  },
  {
   "cell_type": "code",
   "execution_count": 3,
   "id": "751ca41d-7863-4319-8c1e-c25f1d1d48fd",
   "metadata": {},
   "outputs": [
    {
     "name": "stdout",
     "output_type": "stream",
     "text": [
      "A = [0 1 2 3 4 5]\n",
      "B = [0.   0.25 0.5  0.75 1.  ]\n"
     ]
    }
   ],
   "source": [
    "# Последовательности чисел\n",
    "A = np.arange(6)              # 0,1,2,3,4,5\n",
    "print(\"A =\", A)\n",
    "\n",
    "B = np.linspace(0.0, 1.0, 5)  # 5 точек от 0 до 1 включительно\n",
    "print(\"B =\", B)"
   ]
  },
  {
   "cell_type": "code",
   "execution_count": 4,
   "id": "209aa128-47e3-4a86-9fc7-b72466f6718b",
   "metadata": {},
   "outputs": [
    {
     "name": "stdout",
     "output_type": "stream",
     "text": [
      "Z:\n",
      " [[0. 0. 0.]\n",
      " [0. 0. 0.]]\n",
      "O:\n",
      " [[1. 1. 1.]\n",
      " [1. 1. 1.]]\n",
      "F:\n",
      " [[7 7 7]\n",
      " [7 7 7]]\n",
      "I:\n",
      " [[1. 0. 0.]\n",
      " [0. 1. 0.]\n",
      " [0. 0. 1.]]\n"
     ]
    }
   ],
   "source": [
    "# Матрицы-заготовки\n",
    "Z = np.zeros((2, 3))          # все нули\n",
    "O = np.ones((2, 3))           # все единицы\n",
    "F = np.full((2, 3), 7)        # все семёрки\n",
    "I = np.eye(3)                 # единичная матрица 3x3\n",
    "print(\"Z:\\n\", Z)\n",
    "print(\"O:\\n\", O)\n",
    "print(\"F:\\n\", F)\n",
    "print(\"I:\\n\", I)"
   ]
  },
  {
   "cell_type": "code",
   "execution_count": 5,
   "id": "564d4d71-d162-4458-84a3-cc4332f3f9b4",
   "metadata": {},
   "outputs": [
    {
     "name": "stdout",
     "output_type": "stream",
     "text": [
      "M:\n",
      " [[ 0  1  2  3]\n",
      " [ 4  5  6  7]\n",
      " [ 8  9 10 11]]\n",
      "shape: (3, 4) | ndim: 2 | size: 12 | dtype: int64\n"
     ]
    }
   ],
   "source": [
    "# Базовые свойства формы и размера\n",
    "M = np.arange(12).reshape(3, 4)   # меняем форму без копии данных\n",
    "print(\"M:\\n\", M)\n",
    "print(\"shape:\", M.shape, \"| ndim:\", M.ndim, \"| size:\", M.size, \"| dtype:\", M.dtype)"
   ]
  },
  {
   "cell_type": "code",
   "execution_count": 6,
   "id": "3ae91f46-6a49-4bce-b80d-37734bda8160",
   "metadata": {},
   "outputs": [
    {
     "name": "stdout",
     "output_type": "stream",
     "text": [
      "M32 dtype: float32\n"
     ]
    }
   ],
   "source": [
    "# Преобразование типа (создаёт копию)\n",
    "M32 = M.astype(np.float32)\n",
    "print(\"M32 dtype:\", M32.dtype)\n"
   ]
  },
  {
   "cell_type": "code",
   "execution_count": 7,
   "id": "bec93345-9cdd-411c-87ee-8146c22bdabf",
   "metadata": {},
   "outputs": [
    {
     "name": "stdout",
     "output_type": "stream",
     "text": [
      "R:\n",
      " [[0 1 2 3]\n",
      " [4 5 6 7]] | shape: (2, 4)\n"
     ]
    }
   ],
   "source": [
    "# Автоматический размер в reshape через -1 (подбирается NumPy)\n",
    "R = np.arange(8).reshape(2, -1)   # -1 => автоматически 4 столбца\n",
    "print(\"R:\\n\", R, \"| shape:\", R.shape)"
   ]
  },
  {
   "cell_type": "code",
   "execution_count": 9,
   "id": "5c7697bd-79c9-483d-b052-ac1709e05625",
   "metadata": {},
   "outputs": [
    {
     "name": "stdout",
     "output_type": "stream",
     "text": [
      "A:\n",
      " [[ 0  1  2  3]\n",
      " [ 4  5  6  7]\n",
      " [ 8  9 10 11]]\n",
      "A[1, 2] = 6\n",
      "A[0, :] = [0 1 2 3]\n",
      "A[:, 1] = [1 5 9]\n",
      "S:\n",
      " [[1 2]\n",
      " [5 6]]\n",
      "После изменения S:\n",
      " [[ 0 -1  2  3]\n",
      " [ 4  5  6  7]\n",
      " [ 8  9 10 11]]\n"
     ]
    }
   ],
   "source": [
    "A = np.arange(12).reshape(3, 4)\n",
    "print(\"A:\\n\", A)\n",
    "\n",
    "# Доступ к элементу по индексу (строка, столбец)\n",
    "print(\"A[1, 2] =\", A[1, 2])   # элемент во 2-й строке, 3-м столбце\n",
    "\n",
    "# Срезы (slice) по строкам и столбцам\n",
    "print(\"A[0, :] =\", A[0, :])   # вся первая строка\n",
    "print(\"A[:, 1] =\", A[:, 1])   # весь второй столбец\n",
    "\n",
    "# Подмассив срезом\n",
    "S = A[0:2, 1:3]\n",
    "print(\"S:\\n\", S)\n",
    "\n",
    "# Изменение через срез отражается в исходном массиве\n",
    "S[0, 0] = -1\n",
    "print(\"После изменения S:\\n\", A)"
   ]
  },
  {
   "cell_type": "code",
   "execution_count": 10,
   "id": "bee851bd-9d75-4b6d-a491-e9e43b3d27ab",
   "metadata": {},
   "outputs": [
    {
     "name": "stdout",
     "output_type": "stream",
     "text": [
      "A:\n",
      " [[ 0  1  2  3]\n",
      " [ 4  5  6  7]\n",
      " [ 8  9 10 11]]\n",
      "Маска:\n",
      " [[ True False  True False]\n",
      " [ True False  True False]\n",
      " [ True False  True False]]\n",
      "Чётные элементы: [ 0  2  4  6  8 10]\n",
      "Маска (A > 3 и A < 10):\n",
      " [[False False False False]\n",
      " [ True  True  True  True]\n",
      " [ True  True False False]]\n",
      "Элементы от 4 до 9: [4 5 6 7 8 9]\n"
     ]
    }
   ],
   "source": [
    "A = np.arange(12).reshape(3, 4)\n",
    "print(\"A:\\n\", A)\n",
    "\n",
    "# Булева маска: True для чётных элементов\n",
    "mask = (A % 2 == 0)\n",
    "print(\"Маска:\\n\", mask)\n",
    "\n",
    "# Применение маски\n",
    "E = A[mask]\n",
    "print(\"Чётные элементы:\", E)\n",
    "\n",
    "# Булева маска для диапазона значений\n",
    "mask2 = (A > 3) & (A < 10)\n",
    "print(\"Маска (A > 3 и A < 10):\\n\", mask2)\n",
    "\n",
    "F = A[mask2]\n",
    "print(\"Элементы от 4 до 9:\", F)\n"
   ]
  },
  {
   "cell_type": "code",
   "execution_count": 11,
   "id": "d1447823-9304-47de-8862-a5c02fe108ca",
   "metadata": {},
   "outputs": [
    {
     "name": "stdout",
     "output_type": "stream",
     "text": [
      "A:\n",
      " [[ 0  1  2  3]\n",
      " [ 4  5  6  7]\n",
      " [ 8  9 10 11]]\n",
      "Строки 0 и 2:\n",
      " [[ 0  1  2  3]\n",
      " [ 8  9 10 11]]\n",
      "Элементы по координатам:\n",
      " [[ 1  3]\n",
      " [ 9 11]]\n",
      "Столбцы в новом порядке:\n",
      " [[ 2  0  3  1]\n",
      " [ 6  4  7  5]\n",
      " [10  8 11  9]]\n"
     ]
    }
   ],
   "source": [
    "A = np.arange(12).reshape(3, 4)\n",
    "print(\"A:\\n\", A)\n",
    "\n",
    "# Выбор целых строк\n",
    "rows = [0, 2]\n",
    "R = A[rows]\n",
    "print(\"Строки 0 и 2:\\n\", R)\n",
    "\n",
    "# Выбор элементов по координатам\n",
    "rows = np.array([0, 2])\n",
    "cols = np.array([1, 3])\n",
    "F = A[rows[:, None], cols]\n",
    "print(\"Элементы по координатам:\\n\", F)\n",
    "\n",
    "# Перестановка столбцов\n",
    "P = A[:, [2, 0, 3, 1]]\n",
    "print(\"Столбцы в новом порядке:\\n\", P)\n"
   ]
  },
  {
   "cell_type": "code",
   "execution_count": 12,
   "id": "1f691675-b139-4f6b-abdd-8482072bebf4",
   "metadata": {},
   "outputs": [
    {
     "name": "stdout",
     "output_type": "stream",
     "text": [
      "x: [ 1  4  9 16]\n",
      "sqrt(x): [1. 2. 3. 4.]\n",
      "exp(x): [2.71828183e+00 5.45981500e+01 8.10308393e+03 8.88611052e+06]\n",
      "a + b: [11 22 33 44]\n",
      "a * b: [ 10  40  90 160]\n"
     ]
    }
   ],
   "source": [
    "x = np.array([1, 4, 9, 16])\n",
    "print(\"x:\", x)\n",
    "\n",
    "# Унарные ufunc (один массив на входе)\n",
    "y = np.sqrt(x)              # квадратный корень\n",
    "print(\"sqrt(x):\", y)\n",
    "\n",
    "z = np.exp(x)               # экспонента\n",
    "print(\"exp(x):\", z)\n",
    "\n",
    "# Бинарные ufunc (два массива на входе)\n",
    "a = np.array([1, 2, 3, 4])\n",
    "b = np.array([10, 20, 30, 40])\n",
    "c = np.add(a, b)            # сложение\n",
    "print(\"a + b:\", c)\n",
    "\n",
    "d = np.multiply(a, b)       # умножение\n",
    "print(\"a * b:\", d)\n"
   ]
  },
  {
   "cell_type": "code",
   "execution_count": 13,
   "id": "3b689934-d9c2-4067-851e-a395dbb56f80",
   "metadata": {},
   "outputs": [
    {
     "name": "stdout",
     "output_type": "stream",
     "text": [
      "A:\n",
      " [[1 2 3]\n",
      " [4 5 6]\n",
      " [7 8 9]]\n",
      "Сумма всех элементов: 45\n",
      "Минимум: 1\n",
      "Максимум: 9\n",
      "Среднее: 5.0\n",
      "Стандартное отклонение: 2.581988897471611\n",
      "Сумма по строкам: [ 6 15 24]\n",
      "Сумма по столбцам: [12 15 18]\n",
      "Среднее по столбцам: [4. 5. 6.]\n"
     ]
    }
   ],
   "source": [
    "A = np.array([[1, 2, 3],\n",
    "              [4, 5, 6],\n",
    "              [7, 8, 9]])\n",
    "print(\"A:\\n\", A)\n",
    "\n",
    "# Основные статистики\n",
    "print(\"Сумма всех элементов:\", np.sum(A))\n",
    "print(\"Минимум:\", np.min(A))\n",
    "print(\"Максимум:\", np.max(A))\n",
    "print(\"Среднее:\", np.mean(A))\n",
    "print(\"Стандартное отклонение:\", np.std(A))\n",
    "\n",
    "# Статистики по осям\n",
    "print(\"Сумма по строкам:\", np.sum(A, axis=1))\n",
    "print(\"Сумма по столбцам:\", np.sum(A, axis=0))\n",
    "print(\"Среднее по столбцам:\", np.mean(A, axis=0))\n"
   ]
  },
  {
   "cell_type": "code",
   "execution_count": 14,
   "id": "dd4f81b7-9960-499f-a0b3-a467015a4ed7",
   "metadata": {},
   "outputs": [
    {
     "name": "stdout",
     "output_type": "stream",
     "text": [
      "Скалярное произведение u·v: 32\n",
      "A @ B:\n",
      " [[19 22]\n",
      " [43 50]]\n",
      "det(A) = -2.0000000000000004\n",
      "A^(-1):\n",
      " [[-2.   1. ]\n",
      " [ 1.5 -0.5]]\n",
      "Решение системы Ax = b: [0.  0.5]\n"
     ]
    }
   ],
   "source": [
    "# Два вектора\n",
    "u = np.array([1, 2, 3])\n",
    "v = np.array([4, 5, 6])\n",
    "\n",
    "# Скалярное произведение\n",
    "dot = np.dot(u, v)\n",
    "print(\"Скалярное произведение u·v:\", dot)\n",
    "\n",
    "# Матрицы\n",
    "A = np.array([[1, 2],\n",
    "              [3, 4]])\n",
    "B = np.array([[5, 6],\n",
    "              [7, 8]])\n",
    "\n",
    "# Матричное умножение\n",
    "C = np.matmul(A, B)   # или A @ B\n",
    "print(\"A @ B:\\n\", C)\n",
    "\n",
    "# Определитель\n",
    "det = np.linalg.det(A)\n",
    "print(\"det(A) =\", det)\n",
    "\n",
    "# Обратная матрица\n",
    "invA = np.linalg.inv(A)\n",
    "print(\"A^(-1):\\n\", invA)\n",
    "\n",
    "# Решение системы Ax = b\n",
    "b = np.array([1, 2])\n",
    "x = np.linalg.solve(A, b)\n",
    "print(\"Решение системы Ax = b:\", x)\n"
   ]
  },
  {
   "cell_type": "code",
   "execution_count": 15,
   "id": "8bd9af84-6c15-4403-98ba-0cd804a39cab",
   "metadata": {},
   "outputs": [
    {
     "name": "stdout",
     "output_type": "stream",
     "text": [
      "Случайные целые от 0 до 9: [9 7 6 0 2]\n",
      "Равномерное распределение:\n",
      " [[0.08962477 0.05311266]\n",
      " [0.38081356 0.72491985]\n",
      " [0.85285705 0.16484031]]\n",
      "Нормальное распределение:\n",
      " [[-1.49894038  0.66244764 -0.36987461]\n",
      " [ 0.24216777  0.6035533   0.96342139]\n",
      " [ 0.74820731 -0.77221251 -1.40376046]]\n",
      "Повторяемый результат: [51 92 14 71 60]\n"
     ]
    }
   ],
   "source": [
    "# Случайные целые числа\n",
    "r1 = np.random.randint(0, 10, size=5)\n",
    "print(\"Случайные целые от 0 до 9:\", r1)\n",
    "\n",
    "# Равномерное распределение [0, 1)\n",
    "r2 = np.random.rand(3, 2)\n",
    "print(\"Равномерное распределение:\\n\", r2)\n",
    "\n",
    "# Нормальное распределение (среднее=0, σ=1)\n",
    "r3 = np.random.randn(3, 3)\n",
    "print(\"Нормальное распределение:\\n\", r3)\n",
    "\n",
    "# Фиксируем зерно для воспроизводимости\n",
    "np.random.seed(42)\n",
    "r4 = np.random.randint(0, 100, size=5)\n",
    "print(\"Повторяемый результат:\", r4)\n"
   ]
  },
  {
   "cell_type": "code",
   "execution_count": null,
   "id": "8313bf8f-f671-45d6-9d6a-c5f2065c2b8b",
   "metadata": {},
   "outputs": [],
   "source": []
  }
 ],
 "metadata": {
  "kernelspec": {
   "display_name": "Python 3 (ipykernel)",
   "language": "python",
   "name": "python3"
  },
  "language_info": {
   "codemirror_mode": {
    "name": "ipython",
    "version": 3
   },
   "file_extension": ".py",
   "mimetype": "text/x-python",
   "name": "python",
   "nbconvert_exporter": "python",
   "pygments_lexer": "ipython3",
   "version": "3.11.6"
  }
 },
 "nbformat": 4,
 "nbformat_minor": 5
}
