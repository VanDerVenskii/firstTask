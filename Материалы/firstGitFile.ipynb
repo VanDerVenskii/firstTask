{
 "cells": [
  {
   "cell_type": "markdown",
   "id": "39da7a00-1593-412d-affa-976a80e542fc",
   "metadata": {},
   "source": [
    "Первый гит файл"
   ]
  },
  {
   "cell_type": "code",
   "execution_count": 1,
   "id": "2312a25f-586c-4158-b640-aeca2289e769",
   "metadata": {},
   "outputs": [
    {
     "name": "stdout",
     "output_type": "stream",
     "text": [
      "hello git, Im here\n"
     ]
    }
   ],
   "source": [
    "print('hello git, Im here')"
   ]
  }
 ],
 "metadata": {
  "kernelspec": {
   "display_name": "Python 3 (ipykernel)",
   "language": "python",
   "name": "python3"
  },
  "language_info": {
   "codemirror_mode": {
    "name": "ipython",
    "version": 3
   },
   "file_extension": ".py",
   "mimetype": "text/x-python",
   "name": "python",
   "nbconvert_exporter": "python",
   "pygments_lexer": "ipython3",
   "version": "3.13.5"
  }
 },
 "nbformat": 4,
 "nbformat_minor": 5
}
